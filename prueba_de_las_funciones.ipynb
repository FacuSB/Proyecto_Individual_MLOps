{
 "cells": [
  {
   "cell_type": "code",
   "execution_count": 897,
   "metadata": {},
   "outputs": [],
   "source": [
    "import pandas as pd\n",
    "import numpy as np"
   ]
  },
  {
   "cell_type": "code",
   "execution_count": 899,
   "metadata": {},
   "outputs": [],
   "source": [
    "df_original = pd.read_parquet('final.parquet.gzip')"
   ]
  },
  {
   "cell_type": "code",
   "execution_count": 900,
   "metadata": {},
   "outputs": [
    {
     "data": {
      "text/html": [
       "<div>\n",
       "<style scoped>\n",
       "    .dataframe tbody tr th:only-of-type {\n",
       "        vertical-align: middle;\n",
       "    }\n",
       "\n",
       "    .dataframe tbody tr th {\n",
       "        vertical-align: top;\n",
       "    }\n",
       "\n",
       "    .dataframe thead th {\n",
       "        text-align: right;\n",
       "    }\n",
       "</style>\n",
       "<table border=\"1\" class=\"dataframe\">\n",
       "  <thead>\n",
       "    <tr style=\"text-align: right;\">\n",
       "      <th></th>\n",
       "      <th>user_id</th>\n",
       "      <th>steam_id</th>\n",
       "      <th>user_url</th>\n",
       "      <th>user_item_id</th>\n",
       "      <th>played_item_name</th>\n",
       "      <th>playtime_forever</th>\n",
       "      <th>playtime_2weeks</th>\n",
       "      <th>review_content</th>\n",
       "      <th>recomended_item_id</th>\n",
       "      <th>sentiment_analysis</th>\n",
       "      <th>recommend</th>\n",
       "      <th>id</th>\n",
       "      <th>games_info</th>\n",
       "    </tr>\n",
       "  </thead>\n",
       "  <tbody>\n",
       "    <tr>\n",
       "      <th>18497</th>\n",
       "      <td>alvabur</td>\n",
       "      <td>76561198034711225</td>\n",
       "      <td>http://steamcommunity.com/id/alvabur</td>\n",
       "      <td>[10, 240, 7670, 409710, 320, 340, 420, 15700, ...</td>\n",
       "      <td>[Counter-Strike, Counter-Strike: Condition Zer...</td>\n",
       "      <td>[2, 0, 0, 0, 3, 451, 0, 0, 0, 40, 0, 97, 0, 0,...</td>\n",
       "      <td>[0, 0, 0, 0, 0, 0, 0, 0, 0, 0, 0, 0, 0, 0, 0, ...</td>\n",
       "      <td>['esta bueno el juego, y la tematica de los co...</td>\n",
       "      <td>[356510, 222900]</td>\n",
       "      <td>[1, 1]</td>\n",
       "      <td>[True, True]</td>\n",
       "      <td>[10, 240, 7670, 409710, 320, 340, 420, 15700, ...</td>\n",
       "      <td>[{'app_name': 'Counter-Strike', 'developer': '...</td>\n",
       "    </tr>\n",
       "    <tr>\n",
       "      <th>50915</th>\n",
       "      <td>xminjunn</td>\n",
       "      <td>76561198062781241</td>\n",
       "      <td>http://steamcommunity.com/id/xminjunn</td>\n",
       "      <td>[550, 620, 105600, 730, 209870, 242720, 312990...</td>\n",
       "      <td>[Portal 2, Terraria, Counter-Strike: Global Of...</td>\n",
       "      <td>[47, 10746, 23271, 281, 5055, 898, 0, 0, 0, 28...</td>\n",
       "      <td>[0, 0, 0, 0, 0, 0, 0, 0, 0, 0, 0, 0, 0, 0, 0, 0]</td>\n",
       "      <td>None</td>\n",
       "      <td>None</td>\n",
       "      <td>None</td>\n",
       "      <td>None</td>\n",
       "      <td>[550, 620, 105600, 730, 209870, 242720, 312990...</td>\n",
       "      <td>[{'app_name': 'Left 4 Dead 2', 'developer': 'V...</td>\n",
       "    </tr>\n",
       "  </tbody>\n",
       "</table>\n",
       "</div>"
      ],
      "text/plain": [
       "        user_id           steam_id                               user_url  \\\n",
       "18497   alvabur  76561198034711225   http://steamcommunity.com/id/alvabur   \n",
       "50915  xminjunn  76561198062781241  http://steamcommunity.com/id/xminjunn   \n",
       "\n",
       "                                            user_item_id  \\\n",
       "18497  [10, 240, 7670, 409710, 320, 340, 420, 15700, ...   \n",
       "50915  [550, 620, 105600, 730, 209870, 242720, 312990...   \n",
       "\n",
       "                                        played_item_name  \\\n",
       "18497  [Counter-Strike, Counter-Strike: Condition Zer...   \n",
       "50915  [Portal 2, Terraria, Counter-Strike: Global Of...   \n",
       "\n",
       "                                        playtime_forever  \\\n",
       "18497  [2, 0, 0, 0, 3, 451, 0, 0, 0, 40, 0, 97, 0, 0,...   \n",
       "50915  [47, 10746, 23271, 281, 5055, 898, 0, 0, 0, 28...   \n",
       "\n",
       "                                         playtime_2weeks  \\\n",
       "18497  [0, 0, 0, 0, 0, 0, 0, 0, 0, 0, 0, 0, 0, 0, 0, ...   \n",
       "50915   [0, 0, 0, 0, 0, 0, 0, 0, 0, 0, 0, 0, 0, 0, 0, 0]   \n",
       "\n",
       "                                          review_content recomended_item_id  \\\n",
       "18497  ['esta bueno el juego, y la tematica de los co...   [356510, 222900]   \n",
       "50915                                               None               None   \n",
       "\n",
       "      sentiment_analysis     recommend  \\\n",
       "18497             [1, 1]  [True, True]   \n",
       "50915               None          None   \n",
       "\n",
       "                                                      id  \\\n",
       "18497  [10, 240, 7670, 409710, 320, 340, 420, 15700, ...   \n",
       "50915  [550, 620, 105600, 730, 209870, 242720, 312990...   \n",
       "\n",
       "                                              games_info  \n",
       "18497  [{'app_name': 'Counter-Strike', 'developer': '...  \n",
       "50915  [{'app_name': 'Left 4 Dead 2', 'developer': 'V...  "
      ]
     },
     "execution_count": 900,
     "metadata": {},
     "output_type": "execute_result"
    }
   ],
   "source": [
    "df_original.sample(2)"
   ]
  },
  {
   "cell_type": "code",
   "execution_count": 174,
   "metadata": {},
   "outputs": [
    {
     "data": {
      "text/plain": [
       "Index(['user_id', 'steam_id', 'user_url', 'user_item_id', 'played_item_name',\n",
       "       'playtime_forever', 'playtime_2weeks', 'review_content',\n",
       "       'recomended_item_id', 'sentiment_analysis', 'recommend', 'id',\n",
       "       'games_info'],\n",
       "      dtype='object')"
      ]
     },
     "execution_count": 174,
     "metadata": {},
     "output_type": "execute_result"
    }
   ],
   "source": [
    "df_original.columns"
   ]
  },
  {
   "cell_type": "code",
   "execution_count": 785,
   "metadata": {},
   "outputs": [],
   "source": [
    "df_steam_games=pd.read_json('data/steam_games.json',lines=True)"
   ]
  },
  {
   "cell_type": "code",
   "execution_count": 786,
   "metadata": {},
   "outputs": [],
   "source": [
    "df_steam_games=df_steam_games.drop(columns=['Unnamed: 0'])"
   ]
  },
  {
   "cell_type": "code",
   "execution_count": 457,
   "metadata": {},
   "outputs": [],
   "source": [
    "df_review = df_original.loc[:, ['recomended_item_id','sentiment_analysis','recommend']]\n"
   ]
  },
  {
   "cell_type": "code",
   "execution_count": 458,
   "metadata": {},
   "outputs": [],
   "source": [
    "df_review=df_review.dropna()"
   ]
  },
  {
   "cell_type": "code",
   "execution_count": 459,
   "metadata": {},
   "outputs": [
    {
     "data": {
      "text/html": [
       "<div>\n",
       "<style scoped>\n",
       "    .dataframe tbody tr th:only-of-type {\n",
       "        vertical-align: middle;\n",
       "    }\n",
       "\n",
       "    .dataframe tbody tr th {\n",
       "        vertical-align: top;\n",
       "    }\n",
       "\n",
       "    .dataframe thead th {\n",
       "        text-align: right;\n",
       "    }\n",
       "</style>\n",
       "<table border=\"1\" class=\"dataframe\">\n",
       "  <thead>\n",
       "    <tr style=\"text-align: right;\">\n",
       "      <th></th>\n",
       "      <th>recomended_item_id</th>\n",
       "      <th>sentiment_analysis</th>\n",
       "      <th>recommend</th>\n",
       "    </tr>\n",
       "  </thead>\n",
       "  <tbody>\n",
       "    <tr>\n",
       "      <th>12816</th>\n",
       "      <td>[440, 299360, 338170, 49520]</td>\n",
       "      <td>[2, 2, 2, 2]</td>\n",
       "      <td>[True, True, True, True]</td>\n",
       "    </tr>\n",
       "    <tr>\n",
       "      <th>25108</th>\n",
       "      <td>[252950]</td>\n",
       "      <td>[2]</td>\n",
       "      <td>[True]</td>\n",
       "    </tr>\n",
       "    <tr>\n",
       "      <th>34667</th>\n",
       "      <td>[449470]</td>\n",
       "      <td>[0]</td>\n",
       "      <td>[True]</td>\n",
       "    </tr>\n",
       "    <tr>\n",
       "      <th>13715</th>\n",
       "      <td>[105600, 410590, 440]</td>\n",
       "      <td>[0, 1, 2]</td>\n",
       "      <td>[True, False, True]</td>\n",
       "    </tr>\n",
       "    <tr>\n",
       "      <th>51264</th>\n",
       "      <td>[355840, 440]</td>\n",
       "      <td>[2, 2]</td>\n",
       "      <td>[True, True]</td>\n",
       "    </tr>\n",
       "  </tbody>\n",
       "</table>\n",
       "</div>"
      ],
      "text/plain": [
       "                 recomended_item_id sentiment_analysis  \\\n",
       "12816  [440, 299360, 338170, 49520]       [2, 2, 2, 2]   \n",
       "25108                      [252950]                [2]   \n",
       "34667                      [449470]                [0]   \n",
       "13715         [105600, 410590, 440]          [0, 1, 2]   \n",
       "51264                 [355840, 440]             [2, 2]   \n",
       "\n",
       "                      recommend  \n",
       "12816  [True, True, True, True]  \n",
       "25108                    [True]  \n",
       "34667                    [True]  \n",
       "13715       [True, False, True]  \n",
       "51264              [True, True]  "
      ]
     },
     "execution_count": 459,
     "metadata": {},
     "output_type": "execute_result"
    }
   ],
   "source": [
    "df_review.sample(5)"
   ]
  },
  {
   "cell_type": "code",
   "execution_count": 502,
   "metadata": {},
   "outputs": [
    {
     "data": {
      "text/plain": [
       "Index(['publisher', 'genres', 'app_name', 'title', 'url', 'release_date',\n",
       "       'tags', 'reviews_url', 'specs', 'price', 'early_access', 'id',\n",
       "       'developer'],\n",
       "      dtype='object')"
      ]
     },
     "execution_count": 502,
     "metadata": {},
     "output_type": "execute_result"
    }
   ],
   "source": [
    "df_steam_games.columns"
   ]
  },
  {
   "cell_type": "code",
   "execution_count": 461,
   "metadata": {},
   "outputs": [
    {
     "data": {
      "text/plain": [
       "str"
      ]
     },
     "execution_count": 461,
     "metadata": {},
     "output_type": "execute_result"
    }
   ],
   "source": [
    "type(df_review['recomended_item_id'][0][0])"
   ]
  },
  {
   "cell_type": "code",
   "execution_count": 462,
   "metadata": {},
   "outputs": [],
   "source": [
    "df_review['recomended_item_id'] = df_review['recomended_item_id'].apply(lambda x: [int(i) for i in x])\n"
   ]
  },
  {
   "cell_type": "code",
   "execution_count": 463,
   "metadata": {},
   "outputs": [
    {
     "data": {
      "text/plain": [
       "int"
      ]
     },
     "execution_count": 463,
     "metadata": {},
     "output_type": "execute_result"
    }
   ],
   "source": [
    "type(df_review['recomended_item_id'][0][0])"
   ]
  },
  {
   "cell_type": "code",
   "execution_count": 464,
   "metadata": {},
   "outputs": [],
   "source": [
    "# Primero, eliminamos los duplicados en df_steam_games\n",
    "df_steam_games = df_steam_games.drop_duplicates(subset='id')\n",
    "\n",
    "# Convertimos df_steam_games a un diccionario para facilitar la búsqueda\n",
    "dict_df2 = df_steam_games.set_index('id').to_dict('index')\n",
    "\n",
    "# Creamos una nueva columna en df1 que contendrá los datos correspondientes de df2\n",
    "df_review['games_info'] = df_review['recomended_item_id'].apply(lambda x: [dict_df2.get(i, {}) for i in x])\n"
   ]
  },
  {
   "cell_type": "code",
   "execution_count": 465,
   "metadata": {},
   "outputs": [
    {
     "data": {
      "text/html": [
       "<div>\n",
       "<style scoped>\n",
       "    .dataframe tbody tr th:only-of-type {\n",
       "        vertical-align: middle;\n",
       "    }\n",
       "\n",
       "    .dataframe tbody tr th {\n",
       "        vertical-align: top;\n",
       "    }\n",
       "\n",
       "    .dataframe thead th {\n",
       "        text-align: right;\n",
       "    }\n",
       "</style>\n",
       "<table border=\"1\" class=\"dataframe\">\n",
       "  <thead>\n",
       "    <tr style=\"text-align: right;\">\n",
       "      <th></th>\n",
       "      <th>recomended_item_id</th>\n",
       "      <th>sentiment_analysis</th>\n",
       "      <th>recommend</th>\n",
       "      <th>games_info</th>\n",
       "    </tr>\n",
       "  </thead>\n",
       "  <tbody>\n",
       "    <tr>\n",
       "      <th>35233</th>\n",
       "      <td>[204880, 440, 55230, 287980]</td>\n",
       "      <td>[0, 1, 2, 0]</td>\n",
       "      <td>[True, True, False, True]</td>\n",
       "      <td>[{'publisher': 'Stardock Entertainment', 'genr...</td>\n",
       "    </tr>\n",
       "    <tr>\n",
       "      <th>28271</th>\n",
       "      <td>[227940]</td>\n",
       "      <td>[2]</td>\n",
       "      <td>[True]</td>\n",
       "      <td>[{'publisher': 'Reto-Moto', 'genres': ['Action...</td>\n",
       "    </tr>\n",
       "    <tr>\n",
       "      <th>64635</th>\n",
       "      <td>[620]</td>\n",
       "      <td>[2]</td>\n",
       "      <td>[True]</td>\n",
       "      <td>[{'publisher': 'Valve', 'genres': ['Action', '...</td>\n",
       "    </tr>\n",
       "    <tr>\n",
       "      <th>36454</th>\n",
       "      <td>[570]</td>\n",
       "      <td>[1]</td>\n",
       "      <td>[True]</td>\n",
       "      <td>[{}]</td>\n",
       "    </tr>\n",
       "    <tr>\n",
       "      <th>46667</th>\n",
       "      <td>[253510]</td>\n",
       "      <td>[2]</td>\n",
       "      <td>[True]</td>\n",
       "      <td>[{'publisher': 'Privateer Press Interactive', ...</td>\n",
       "    </tr>\n",
       "  </tbody>\n",
       "</table>\n",
       "</div>"
      ],
      "text/plain": [
       "                 recomended_item_id sentiment_analysis  \\\n",
       "35233  [204880, 440, 55230, 287980]       [0, 1, 2, 0]   \n",
       "28271                      [227940]                [2]   \n",
       "64635                         [620]                [2]   \n",
       "36454                         [570]                [1]   \n",
       "46667                      [253510]                [2]   \n",
       "\n",
       "                       recommend  \\\n",
       "35233  [True, True, False, True]   \n",
       "28271                     [True]   \n",
       "64635                     [True]   \n",
       "36454                     [True]   \n",
       "46667                     [True]   \n",
       "\n",
       "                                              games_info  \n",
       "35233  [{'publisher': 'Stardock Entertainment', 'genr...  \n",
       "28271  [{'publisher': 'Reto-Moto', 'genres': ['Action...  \n",
       "64635  [{'publisher': 'Valve', 'genres': ['Action', '...  \n",
       "36454                                               [{}]  \n",
       "46667  [{'publisher': 'Privateer Press Interactive', ...  "
      ]
     },
     "execution_count": 465,
     "metadata": {},
     "output_type": "execute_result"
    }
   ],
   "source": [
    "df_review.sample(5)"
   ]
  },
  {
   "cell_type": "code",
   "execution_count": 34,
   "metadata": {},
   "outputs": [],
   "source": [
    "df_user_info=df_original.copy()"
   ]
  },
  {
   "cell_type": "code",
   "execution_count": 37,
   "metadata": {},
   "outputs": [
    {
     "data": {
      "text/html": [
       "<div>\n",
       "<style scoped>\n",
       "    .dataframe tbody tr th:only-of-type {\n",
       "        vertical-align: middle;\n",
       "    }\n",
       "\n",
       "    .dataframe tbody tr th {\n",
       "        vertical-align: top;\n",
       "    }\n",
       "\n",
       "    .dataframe thead th {\n",
       "        text-align: right;\n",
       "    }\n",
       "</style>\n",
       "<table border=\"1\" class=\"dataframe\">\n",
       "  <thead>\n",
       "    <tr style=\"text-align: right;\">\n",
       "      <th></th>\n",
       "      <th>user_id</th>\n",
       "      <th>steam_id</th>\n",
       "      <th>user_url</th>\n",
       "      <th>user_item_id</th>\n",
       "      <th>played_item_name</th>\n",
       "      <th>playtime_forever</th>\n",
       "      <th>playtime_2weeks</th>\n",
       "      <th>review_content</th>\n",
       "      <th>recomended_item_id</th>\n",
       "      <th>sentiment_analysis</th>\n",
       "      <th>recommend</th>\n",
       "      <th>id</th>\n",
       "      <th>games_info</th>\n",
       "    </tr>\n",
       "  </thead>\n",
       "  <tbody>\n",
       "    <tr>\n",
       "      <th>67486</th>\n",
       "      <td>anticampertrue</td>\n",
       "      <td>76561198096321206</td>\n",
       "      <td>http://steamcommunity.com/id/anticampertrue</td>\n",
       "      <td>[20, 50, 70, 130, 220, 320, 340, 360, 380, 420...</td>\n",
       "      <td>[Team Fortress Classic, Half-Life: Opposing Fo...</td>\n",
       "      <td>[29, 1, 2, 0, 16, 1, 12, 0, 0, 0, 0, 5, 667, 2...</td>\n",
       "      <td>[0, 0, 0, 0, 0, 0, 0, 0, 0, 0, 0, 0, 0, 0, 0, ...</td>\n",
       "      <td>['Muito bom']</td>\n",
       "      <td>[570]</td>\n",
       "      <td>[1]</td>\n",
       "      <td>[True]</td>\n",
       "      <td>[20, 50, 70, 130, 220, 320, 340, 360, 380, 420...</td>\n",
       "      <td>[{'app_name': 'Team Fortress Classic', 'develo...</td>\n",
       "    </tr>\n",
       "    <tr>\n",
       "      <th>11334</th>\n",
       "      <td>76561198081901873</td>\n",
       "      <td>76561198081901873</td>\n",
       "      <td>http://steamcommunity.com/profiles/76561198081...</td>\n",
       "      <td>[240, 550, 730, 4000, 12220, 211500, 386360, 3...</td>\n",
       "      <td>[Counter-Strike: Source, Garry's Mod, Left 4 D...</td>\n",
       "      <td>[471, 300, 1250, 0, 99, 0, 0, 53, 0, 6538, 0, 78]</td>\n",
       "      <td>[0, 0, 25, 0, 0, 0, 0, 0, 0, 37, 0, 0]</td>\n",
       "      <td>None</td>\n",
       "      <td>None</td>\n",
       "      <td>None</td>\n",
       "      <td>None</td>\n",
       "      <td>[240, 550, 730, 4000, 12220, 211500, 386360, 3...</td>\n",
       "      <td>[{'app_name': 'Counter-Strike: Source', 'devel...</td>\n",
       "    </tr>\n",
       "    <tr>\n",
       "      <th>10019</th>\n",
       "      <td>jellyo</td>\n",
       "      <td>76561198042294898</td>\n",
       "      <td>http://steamcommunity.com/id/jellyo</td>\n",
       "      <td>[400, 3590, 35140, 550, 8980, 41500, 17410, 62...</td>\n",
       "      <td>[Bejeweled 2 Deluxe, BookWorm Deluxe, Portal, ...</td>\n",
       "      <td>[0, 38, 0, 10999, 1762, 0, 80, 0, 182, 465, 11...</td>\n",
       "      <td>[0, 0, 0, 0, 539, 0, 0, 0, 0, 0, 0, 0, 0, 0, 0...</td>\n",
       "      <td>None</td>\n",
       "      <td>None</td>\n",
       "      <td>None</td>\n",
       "      <td>None</td>\n",
       "      <td>[400, 3590, 35140, 550, 8980, 41500, 17410, 62...</td>\n",
       "      <td>[{'app_name': 'Portal', 'developer': 'Valve', ...</td>\n",
       "    </tr>\n",
       "    <tr>\n",
       "      <th>36527</th>\n",
       "      <td>24596</td>\n",
       "      <td>76561198028900954</td>\n",
       "      <td>http://steamcommunity.com/id/24596</td>\n",
       "      <td>[10, 20, 30, 40, 50, 60, 70, 130, 300, 240, 22...</td>\n",
       "      <td>[Counter-Strike: Source, Garry's Mod, Half-Lif...</td>\n",
       "      <td>[1616, 6504, 266, 927, 41, 0, 0, 38, 0, 110, 1...</td>\n",
       "      <td>[0, 0, 0, 0, 0, 0, 0, 0, 0, 0, 0, 0, 0, 0, 0, ...</td>\n",
       "      <td>[\"It's CS. What else can I say?\"]</td>\n",
       "      <td>[730]</td>\n",
       "      <td>[1]</td>\n",
       "      <td>[True]</td>\n",
       "      <td>[10, 20, 30, 40, 50, 60, 70, 130, 300, 240, 22...</td>\n",
       "      <td>[{'app_name': 'Counter-Strike', 'developer': '...</td>\n",
       "    </tr>\n",
       "    <tr>\n",
       "      <th>52133</th>\n",
       "      <td>Tyranntkun</td>\n",
       "      <td>76561198065336406</td>\n",
       "      <td>http://steamcommunity.com/id/Tyranntkun</td>\n",
       "      <td>[70, 240, 7670, 409710, 220, 340, 15700, 15710...</td>\n",
       "      <td>[Half-Life, Half-Life 2, Half-Life 2: Lost Coa...</td>\n",
       "      <td>[0, 201, 0, 8277, 692, 167, 4, 402, 0, 2, 0, 1...</td>\n",
       "      <td>[0, 0, 0, 0, 0, 0, 0, 0, 0, 0, 0, 0, 0, 0, 0, ...</td>\n",
       "      <td>None</td>\n",
       "      <td>None</td>\n",
       "      <td>None</td>\n",
       "      <td>None</td>\n",
       "      <td>[70, 240, 7670, 409710, 220, 340, 15700, 15710...</td>\n",
       "      <td>[{'app_name': 'Half-Life', 'developer': 'Valve...</td>\n",
       "    </tr>\n",
       "  </tbody>\n",
       "</table>\n",
       "</div>"
      ],
      "text/plain": [
       "                 user_id           steam_id  \\\n",
       "67486     anticampertrue  76561198096321206   \n",
       "11334  76561198081901873  76561198081901873   \n",
       "10019             jellyo  76561198042294898   \n",
       "36527              24596  76561198028900954   \n",
       "52133         Tyranntkun  76561198065336406   \n",
       "\n",
       "                                                user_url  \\\n",
       "67486        http://steamcommunity.com/id/anticampertrue   \n",
       "11334  http://steamcommunity.com/profiles/76561198081...   \n",
       "10019                http://steamcommunity.com/id/jellyo   \n",
       "36527                 http://steamcommunity.com/id/24596   \n",
       "52133            http://steamcommunity.com/id/Tyranntkun   \n",
       "\n",
       "                                            user_item_id  \\\n",
       "67486  [20, 50, 70, 130, 220, 320, 340, 360, 380, 420...   \n",
       "11334  [240, 550, 730, 4000, 12220, 211500, 386360, 3...   \n",
       "10019  [400, 3590, 35140, 550, 8980, 41500, 17410, 62...   \n",
       "36527  [10, 20, 30, 40, 50, 60, 70, 130, 300, 240, 22...   \n",
       "52133  [70, 240, 7670, 409710, 220, 340, 15700, 15710...   \n",
       "\n",
       "                                        played_item_name  \\\n",
       "67486  [Team Fortress Classic, Half-Life: Opposing Fo...   \n",
       "11334  [Counter-Strike: Source, Garry's Mod, Left 4 D...   \n",
       "10019  [Bejeweled 2 Deluxe, BookWorm Deluxe, Portal, ...   \n",
       "36527  [Counter-Strike: Source, Garry's Mod, Half-Lif...   \n",
       "52133  [Half-Life, Half-Life 2, Half-Life 2: Lost Coa...   \n",
       "\n",
       "                                        playtime_forever  \\\n",
       "67486  [29, 1, 2, 0, 16, 1, 12, 0, 0, 0, 0, 5, 667, 2...   \n",
       "11334  [471, 300, 1250, 0, 99, 0, 0, 53, 0, 6538, 0, 78]   \n",
       "10019  [0, 38, 0, 10999, 1762, 0, 80, 0, 182, 465, 11...   \n",
       "36527  [1616, 6504, 266, 927, 41, 0, 0, 38, 0, 110, 1...   \n",
       "52133  [0, 201, 0, 8277, 692, 167, 4, 402, 0, 2, 0, 1...   \n",
       "\n",
       "                                         playtime_2weeks  \\\n",
       "67486  [0, 0, 0, 0, 0, 0, 0, 0, 0, 0, 0, 0, 0, 0, 0, ...   \n",
       "11334             [0, 0, 25, 0, 0, 0, 0, 0, 0, 37, 0, 0]   \n",
       "10019  [0, 0, 0, 0, 539, 0, 0, 0, 0, 0, 0, 0, 0, 0, 0...   \n",
       "36527  [0, 0, 0, 0, 0, 0, 0, 0, 0, 0, 0, 0, 0, 0, 0, ...   \n",
       "52133  [0, 0, 0, 0, 0, 0, 0, 0, 0, 0, 0, 0, 0, 0, 0, ...   \n",
       "\n",
       "                          review_content recomended_item_id  \\\n",
       "67486                      ['Muito bom']              [570]   \n",
       "11334                               None               None   \n",
       "10019                               None               None   \n",
       "36527  [\"It's CS. What else can I say?\"]              [730]   \n",
       "52133                               None               None   \n",
       "\n",
       "      sentiment_analysis recommend  \\\n",
       "67486                [1]    [True]   \n",
       "11334               None      None   \n",
       "10019               None      None   \n",
       "36527                [1]    [True]   \n",
       "52133               None      None   \n",
       "\n",
       "                                                      id  \\\n",
       "67486  [20, 50, 70, 130, 220, 320, 340, 360, 380, 420...   \n",
       "11334  [240, 550, 730, 4000, 12220, 211500, 386360, 3...   \n",
       "10019  [400, 3590, 35140, 550, 8980, 41500, 17410, 62...   \n",
       "36527  [10, 20, 30, 40, 50, 60, 70, 130, 300, 240, 22...   \n",
       "52133  [70, 240, 7670, 409710, 220, 340, 15700, 15710...   \n",
       "\n",
       "                                              games_info  \n",
       "67486  [{'app_name': 'Team Fortress Classic', 'develo...  \n",
       "11334  [{'app_name': 'Counter-Strike: Source', 'devel...  \n",
       "10019  [{'app_name': 'Portal', 'developer': 'Valve', ...  \n",
       "36527  [{'app_name': 'Counter-Strike', 'developer': '...  \n",
       "52133  [{'app_name': 'Half-Life', 'developer': 'Valve...  "
      ]
     },
     "execution_count": 37,
     "metadata": {},
     "output_type": "execute_result"
    }
   ],
   "source": [
    "df_user_info.sample(5)"
   ]
  },
  {
   "cell_type": "code",
   "execution_count": null,
   "metadata": {},
   "outputs": [],
   "source": []
  },
  {
   "cell_type": "code",
   "execution_count": 764,
   "metadata": {},
   "outputs": [
    {
     "data": {
      "text/plain": [
       "Index(['user_id', 'steam_id', 'user_url', 'user_item_id', 'played_item_name',\n",
       "       'playtime_forever', 'playtime_2weeks', 'review_content',\n",
       "       'recomended_item_id', 'sentiment_analysis', 'recommend', 'id',\n",
       "       'games_info'],\n",
       "      dtype='object')"
      ]
     },
     "execution_count": 764,
     "metadata": {},
     "output_type": "execute_result"
    }
   ],
   "source": [
    "df_user_info.columns"
   ]
  },
  {
   "cell_type": "markdown",
   "metadata": {},
   "source": [
    "### FUNCION 1"
   ]
  },
  {
   "cell_type": "code",
   "execution_count": 830,
   "metadata": {},
   "outputs": [],
   "source": [
    "def year_with_most_playtime(genre):\n",
    "    # Crear un nuevo DataFrame para evitar modificar el original\n",
    "    df = df_original.copy()\n",
    "\n",
    "    # Inicializar un diccionario para almacenar las horas jugadas por año\n",
    "    playtime_by_year = {}\n",
    "\n",
    "    # Iterar sobre cada fila del DataFrame\n",
    "    for _, row in df.iterrows():\n",
    "        if row['games_info'] is not None:\n",
    "            for game_info in row['games_info']:\n",
    "                if game_info is not None and genre in game_info['genres']:\n",
    "                    year = pd.to_datetime(game_info['release_date']).year\n",
    "                    playtime = row['playtime_forever']\n",
    "\n",
    "                    # Si playtime es un array, sumar sus elementos\n",
    "                    if isinstance(playtime, np.ndarray):\n",
    "                        playtime = playtime.sum()\n",
    "\n",
    "                    # Agregar las horas jugadas al diccionario\n",
    "                    if year in playtime_by_year:\n",
    "                        playtime_by_year[year] += playtime\n",
    "                    else:\n",
    "                        playtime_by_year[year] = playtime\n",
    "\n",
    "    # Encontrar el año con más horas jugadas\n",
    "    max_playtime_year = max(playtime_by_year, key=playtime_by_year.get)\n",
    "\n",
    "    # Devolver un diccionario con una cadena de texto descriptiva como clave y el año con más horas jugadas como valor\n",
    "    return {f\"Año de lanzamiento con más horas jugadas para {genre}\": max_playtime_year}\n"
   ]
  },
  {
   "cell_type": "code",
   "execution_count": 844,
   "metadata": {},
   "outputs": [],
   "source": [
    "import pandas as pd\n",
    "import numpy as np\n",
    "\n",
    "def year_with_most_playtime(genre):\n",
    "    # Crear un nuevo DataFrame para evitar modificar el original\n",
    "    df = df_original.copy()\n",
    "\n",
    "    # Filtrar las filas que contienen el género deseado\n",
    "    df = df[df['games_info'].apply(lambda x: x is not None and any(info and genre in info.get('genres', []) for info in x))]\n",
    "\n",
    "    # Desglosar la información del juego y convertir la fecha de lanzamiento a tipo datetime\n",
    "    df['release_year'] = df['games_info'].apply(lambda x: [pd.to_datetime(info['release_date']).year if info and 'release_date' in info else np.nan for info in x])\n",
    "    df['playtime'] = df['playtime_forever'].apply(lambda x: x.sum() if isinstance(x, np.ndarray) else x)\n",
    "\n",
    "    # Explotar las listas para obtener una fila por año de lanzamiento\n",
    "    exploded_df = df.explode('release_year')\n",
    "\n",
    "    # Agrupar por año y sumar las horas jugadas\n",
    "    playtime_by_year = exploded_df.groupby('release_year')['playtime'].sum()\n",
    "\n",
    "    # Encontrar el año con más horas jugadas\n",
    "    max_playtime_year = playtime_by_year.idxmax()\n",
    "\n",
    "    # Devolver un diccionario con una cadena de texto descriptiva como clave y el año con más horas jugadas como valor\n",
    "    return {f\"Año de lanzamiento con más horas jugadas para {genre}\": max_playtime_year}\n"
   ]
  },
  {
   "cell_type": "code",
   "execution_count": 846,
   "metadata": {},
   "outputs": [
    {
     "data": {
      "text/plain": [
       "{'Año de lanzamiento con más horas jugadas para Action': 2014}"
      ]
     },
     "execution_count": 846,
     "metadata": {},
     "output_type": "execute_result"
    }
   ],
   "source": [
    "year_with_most_playtime(\"Action\")"
   ]
  },
  {
   "cell_type": "code",
   "execution_count": 854,
   "metadata": {},
   "outputs": [],
   "source": [
    "def year_with_most_playtime_by_genre():\n",
    "    # Crear un nuevo DataFrame para evitar modificar el original\n",
    "    df = df_original.copy()\n",
    "\n",
    "    # Inicializar un diccionario para almacenar las horas jugadas por año para cada género\n",
    "    playtime_by_year_by_genre = {}\n",
    "\n",
    "    # Iterar sobre cada fila del DataFrame\n",
    "    for _, row in df.iterrows():\n",
    "        if row['games_info'] is not None:\n",
    "            for game_info in row['games_info']:\n",
    "                if game_info is not None:\n",
    "                    for genre in game_info['genres']:\n",
    "                        year = pd.to_datetime(game_info['release_date']).year\n",
    "                        playtime = row['playtime_forever']\n",
    "\n",
    "                        # Si playtime es un array, sumar sus elementos\n",
    "                        if isinstance(playtime, np.ndarray):\n",
    "                            playtime = playtime.sum()\n",
    "\n",
    "                        # Agregar las horas jugadas al diccionario\n",
    "                        if genre in playtime_by_year_by_genre:\n",
    "                            if year in playtime_by_year_by_genre[genre]:\n",
    "                                playtime_by_year_by_genre[genre][year] += playtime\n",
    "                            else:\n",
    "                                playtime_by_year_by_genre[genre][year] = playtime\n",
    "                        else:\n",
    "                            playtime_by_year_by_genre[genre] = {year: playtime}\n",
    "\n",
    "    # Crear un DataFrame a partir del diccionario\n",
    "    df_genre = pd.DataFrame([(genre, max(years, key=years.get)) for genre, years in playtime_by_year_by_genre.items()], columns=['Genre', 'Year with Most Playtime'])\n",
    "\n",
    "    return df_genre\n"
   ]
  },
  {
   "cell_type": "code",
   "execution_count": 855,
   "metadata": {},
   "outputs": [],
   "source": [
    "df_genre=year_with_most_playtime_by_genre()"
   ]
  },
  {
   "cell_type": "code",
   "execution_count": 857,
   "metadata": {},
   "outputs": [],
   "source": [
    "df_genre.to_json('data_optimizada/genre_year_with_most_playtime.json', orient='records', lines=True)\n"
   ]
  },
  {
   "cell_type": "code",
   "execution_count": 22,
   "metadata": {},
   "outputs": [],
   "source": [
    "df_genre_year_with_most_playtime=pd.read_json('genre_year_with_most_playtime.json',lines=True)"
   ]
  },
  {
   "cell_type": "code",
   "execution_count": 23,
   "metadata": {},
   "outputs": [
    {
     "data": {
      "text/html": [
       "<div>\n",
       "<style scoped>\n",
       "    .dataframe tbody tr th:only-of-type {\n",
       "        vertical-align: middle;\n",
       "    }\n",
       "\n",
       "    .dataframe tbody tr th {\n",
       "        vertical-align: top;\n",
       "    }\n",
       "\n",
       "    .dataframe thead th {\n",
       "        text-align: right;\n",
       "    }\n",
       "</style>\n",
       "<table border=\"1\" class=\"dataframe\">\n",
       "  <thead>\n",
       "    <tr style=\"text-align: right;\">\n",
       "      <th></th>\n",
       "      <th>Genre</th>\n",
       "      <th>Year with Most Playtime</th>\n",
       "    </tr>\n",
       "  </thead>\n",
       "  <tbody>\n",
       "    <tr>\n",
       "      <th>0</th>\n",
       "      <td>Action</td>\n",
       "      <td>2012</td>\n",
       "    </tr>\n",
       "    <tr>\n",
       "      <th>1</th>\n",
       "      <td>Strategy</td>\n",
       "      <td>2013</td>\n",
       "    </tr>\n",
       "    <tr>\n",
       "      <th>2</th>\n",
       "      <td>RPG</td>\n",
       "      <td>2015</td>\n",
       "    </tr>\n",
       "    <tr>\n",
       "      <th>3</th>\n",
       "      <td>Casual</td>\n",
       "      <td>2015</td>\n",
       "    </tr>\n",
       "    <tr>\n",
       "      <th>4</th>\n",
       "      <td>Simulation</td>\n",
       "      <td>2015</td>\n",
       "    </tr>\n",
       "    <tr>\n",
       "      <th>5</th>\n",
       "      <td>Adventure</td>\n",
       "      <td>2015</td>\n",
       "    </tr>\n",
       "    <tr>\n",
       "      <th>6</th>\n",
       "      <td>Indie</td>\n",
       "      <td>2014</td>\n",
       "    </tr>\n",
       "    <tr>\n",
       "      <th>7</th>\n",
       "      <td>Racing</td>\n",
       "      <td>2015</td>\n",
       "    </tr>\n",
       "    <tr>\n",
       "      <th>8</th>\n",
       "      <td>Sports</td>\n",
       "      <td>2015</td>\n",
       "    </tr>\n",
       "    <tr>\n",
       "      <th>9</th>\n",
       "      <td>Early Access</td>\n",
       "      <td>2015</td>\n",
       "    </tr>\n",
       "    <tr>\n",
       "      <th>10</th>\n",
       "      <td>Free to Play</td>\n",
       "      <td>2015</td>\n",
       "    </tr>\n",
       "    <tr>\n",
       "      <th>11</th>\n",
       "      <td>Massively Multiplayer</td>\n",
       "      <td>2015</td>\n",
       "    </tr>\n",
       "    <tr>\n",
       "      <th>12</th>\n",
       "      <td>Utilities</td>\n",
       "      <td>2014</td>\n",
       "    </tr>\n",
       "    <tr>\n",
       "      <th>13</th>\n",
       "      <td>Animation &amp;amp; Modeling</td>\n",
       "      <td>2015</td>\n",
       "    </tr>\n",
       "    <tr>\n",
       "      <th>14</th>\n",
       "      <td>Video Production</td>\n",
       "      <td>2015</td>\n",
       "    </tr>\n",
       "    <tr>\n",
       "      <th>15</th>\n",
       "      <td>Education</td>\n",
       "      <td>2013</td>\n",
       "    </tr>\n",
       "    <tr>\n",
       "      <th>16</th>\n",
       "      <td>Software Training</td>\n",
       "      <td>2013</td>\n",
       "    </tr>\n",
       "    <tr>\n",
       "      <th>17</th>\n",
       "      <td>Design &amp;amp; Illustration</td>\n",
       "      <td>2012</td>\n",
       "    </tr>\n",
       "    <tr>\n",
       "      <th>18</th>\n",
       "      <td>Web Publishing</td>\n",
       "      <td>2012</td>\n",
       "    </tr>\n",
       "    <tr>\n",
       "      <th>19</th>\n",
       "      <td>Photo Editing</td>\n",
       "      <td>2015</td>\n",
       "    </tr>\n",
       "    <tr>\n",
       "      <th>20</th>\n",
       "      <td>Audio Production</td>\n",
       "      <td>2014</td>\n",
       "    </tr>\n",
       "  </tbody>\n",
       "</table>\n",
       "</div>"
      ],
      "text/plain": [
       "                        Genre  Year with Most Playtime\n",
       "0                      Action                     2012\n",
       "1                    Strategy                     2013\n",
       "2                         RPG                     2015\n",
       "3                      Casual                     2015\n",
       "4                  Simulation                     2015\n",
       "5                   Adventure                     2015\n",
       "6                       Indie                     2014\n",
       "7                      Racing                     2015\n",
       "8                      Sports                     2015\n",
       "9                Early Access                     2015\n",
       "10               Free to Play                     2015\n",
       "11      Massively Multiplayer                     2015\n",
       "12                  Utilities                     2014\n",
       "13   Animation &amp; Modeling                     2015\n",
       "14           Video Production                     2015\n",
       "15                  Education                     2013\n",
       "16          Software Training                     2013\n",
       "17  Design &amp; Illustration                     2012\n",
       "18             Web Publishing                     2012\n",
       "19              Photo Editing                     2015\n",
       "20           Audio Production                     2014"
      ]
     },
     "execution_count": 23,
     "metadata": {},
     "output_type": "execute_result"
    }
   ],
   "source": [
    "df_genre_year_with_most_playtime"
   ]
  },
  {
   "cell_type": "code",
   "execution_count": 26,
   "metadata": {},
   "outputs": [
    {
     "data": {
      "text/plain": [
       "{'Año de lanzamiento con más horas jugadas para Action': 2012}"
      ]
     },
     "execution_count": 26,
     "metadata": {},
     "output_type": "execute_result"
    }
   ],
   "source": [
    "def obtener_anio_con_mas_horas(genero):\n",
    "    df_filtrado = df_genre_year_with_most_playtime[df_genre_year_with_most_playtime['Genre'] == genero]\n",
    "    anio_con_mas_horas = df_filtrado['Year with Most Playtime'].max()\n",
    "    return {f\"Año de lanzamiento con más horas jugadas para {genero}\": anio_con_mas_horas}\n",
    "\n",
    "# Uso de la función\n",
    "obtener_anio_con_mas_horas('Action')\n",
    "\n"
   ]
  },
  {
   "cell_type": "code",
   "execution_count": 31,
   "metadata": {},
   "outputs": [],
   "source": [
    "def obtener_anio_con_mas_horas(genero):\n",
    "    df_filtrado = df_genre_year_with_most_playtime[df_genre_year_with_most_playtime['Genre'] == genero]\n",
    "    anio_con_mas_horas = int(df_filtrado['Year with Most Playtime'].max())\n",
    "    return {f\"Año de lanzamiento con más horas jugadas para {genero}\": anio_con_mas_horas}"
   ]
  },
  {
   "cell_type": "code",
   "execution_count": 32,
   "metadata": {},
   "outputs": [
    {
     "data": {
      "text/plain": [
       "{'Año de lanzamiento con más horas jugadas para Action': 2012}"
      ]
     },
     "execution_count": 32,
     "metadata": {},
     "output_type": "execute_result"
    }
   ],
   "source": [
    "obtener_anio_con_mas_horas('Action')"
   ]
  },
  {
   "cell_type": "markdown",
   "metadata": {},
   "source": [
    "### FUNCION 2"
   ]
  },
  {
   "cell_type": "code",
   "execution_count": 17,
   "metadata": {},
   "outputs": [],
   "source": [
    "def user_with_most_playtime(genre):\n",
    "    # Crear un nuevo DataFrame para evitar modificar el original\n",
    "    df = df_original.copy()\n",
    "\n",
    "    # Inicializar un diccionario para almacenar las horas jugadas por usuario y por año\n",
    "    playtime_by_user_by_year = {}\n",
    "\n",
    "    # Iterar sobre cada fila del DataFrame\n",
    "    for _, row in df.iterrows():\n",
    "        if row['games_info'] is not None:\n",
    "            for game_info in row['games_info']:\n",
    "                if game_info is not None and genre in game_info['genres']:\n",
    "                    user = row['user_id']\n",
    "                    year = pd.to_datetime(game_info['release_date']).year\n",
    "                    playtime = row['playtime_forever']\n",
    "\n",
    "                    # Si playtime es un array, sumar sus elementos\n",
    "                    if isinstance(playtime, np.ndarray):\n",
    "                        playtime = playtime.sum()\n",
    "\n",
    "                    # Agregar las horas jugadas al diccionario\n",
    "                    if user in playtime_by_user_by_year:\n",
    "                        if year in playtime_by_user_by_year[user]:\n",
    "                            playtime_by_user_by_year[user][year] += playtime\n",
    "                        else:\n",
    "                            playtime_by_user_by_year[user][year] = playtime\n",
    "                    else:\n",
    "                        playtime_by_user_by_year[user] = {year: playtime}\n",
    "\n",
    "    # Encontrar el usuario con más horas jugadas\n",
    "    max_playtime_user = max(playtime_by_user_by_year, key=lambda user: sum(playtime_by_user_by_year[user].values()))\n",
    "\n",
    "    # Crear una lista de la acumulación de horas jugadas por año\n",
    "    playtime_by_year = [{\"Año\": year, \"Horas\": playtime} for year, playtime in playtime_by_user_by_year[max_playtime_user].items()]\n",
    "\n",
    "    # Devolver un diccionario con el usuario con más horas jugadas y la lista de la acumulación de horas jugadas por año\n",
    "    return {f\"Usuario con más horas jugadas para {genre}\": max_playtime_user, \"Horas jugadas\": playtime_by_year}\n"
   ]
  },
  {
   "cell_type": "code",
   "execution_count": 19,
   "metadata": {},
   "outputs": [
    {
     "data": {
      "text/plain": [
       "{'Usuario con más horas jugadas para Action': 'REBAS_AS_F-T',\n",
       " 'Horas jugadas': [{'Año': 1999, 'Horas': 18641572},\n",
       "  {'Año': 1998, 'Horas': 13981179},\n",
       "  {'Año': 2001, 'Horas': 9320786},\n",
       "  {'Año': 2005, 'Horas': 32622751},\n",
       "  {'Año': 2000, 'Horas': 13981179},\n",
       "  {'Año': 2007, 'Horas': 41943537},\n",
       "  {'Año': 2016, 'Horas': 587209518},\n",
       "  {'Año': 2004, 'Horas': 32622751},\n",
       "  {'Año': 2006, 'Horas': 32622751},\n",
       "  {'Año': 2008, 'Horas': 69905895},\n",
       "  {'Año': 2009, 'Horas': 116509825},\n",
       "  {'Año': 2010, 'Horas': 158453362},\n",
       "  {'Año': 2011, 'Horas': 209717685},\n",
       "  {'Año': 2012, 'Horas': 335548296},\n",
       "  {'Año': 2013, 'Horas': 354189868},\n",
       "  {'Año': 2015, 'Horas': 759644059},\n",
       "  {'Año': 2014, 'Horas': 708379736},\n",
       "  {'Año': 2003, 'Horas': 13981179},\n",
       "  {'Año': 2017, 'Horas': 55924716},\n",
       "  {'Año': 2002, 'Horas': 23301965},\n",
       "  {'Año': 1996, 'Horas': 4660393}]}"
      ]
     },
     "execution_count": 19,
     "metadata": {},
     "output_type": "execute_result"
    }
   ],
   "source": [
    "user_with_most_playtime(\"Action\")"
   ]
  },
  {
   "cell_type": "code",
   "execution_count": 869,
   "metadata": {},
   "outputs": [],
   "source": [
    "import pandas as pd\n",
    "\n",
    "def users_with_most_playtime():\n",
    "    # Crear un nuevo DataFrame para evitar modificar el original\n",
    "    df = df_original.copy()\n",
    "\n",
    "    # Inicializar un diccionario para almacenar los resultados\n",
    "    results = {}\n",
    "\n",
    "    # Obtener la lista de todos los géneros\n",
    "    genres = set(genre for games in df['games_info'] if games is not None for game in games if game is not None for genre in game['genres'])\n",
    "\n",
    "    # Iterar sobre cada género\n",
    "    for genre in genres:\n",
    "        # Inicializar un diccionario para almacenar las horas jugadas por usuario y por año\n",
    "        playtime_by_user_by_year = {}\n",
    "\n",
    "        # Iterar sobre cada fila del DataFrame\n",
    "        for _, row in df.iterrows():\n",
    "            if row['games_info'] is not None:\n",
    "                for game_info in row['games_info']:\n",
    "                    if game_info is not None and genre in game_info['genres']:\n",
    "                        user = row['user_id']\n",
    "                        year = pd.to_datetime(game_info['release_date']).year\n",
    "                        playtime = row['playtime_forever']\n",
    "\n",
    "                        # Si playtime es un array, sumar sus elementos\n",
    "                        if isinstance(playtime, np.ndarray):\n",
    "                            playtime = playtime.sum()\n",
    "\n",
    "                        # Agregar las horas jugadas al diccionario\n",
    "                        if user in playtime_by_user_by_year:\n",
    "                            if year in playtime_by_user_by_year[user]:\n",
    "                                playtime_by_user_by_year[user][year] += playtime\n",
    "                            else:\n",
    "                                playtime_by_user_by_year[user][year] = playtime\n",
    "                        else:\n",
    "                            playtime_by_user_by_year[user] = {year: playtime}\n",
    "\n",
    "        # Encontrar el usuario con más horas jugadas\n",
    "        max_playtime_user = max(playtime_by_user_by_year, key=lambda user: sum(playtime_by_user_by_year[user].values()))\n",
    "\n",
    "        # Crear una lista de la acumulación de horas jugadas por año\n",
    "        playtime_by_year = [{\"Año\": year, \"Horas\": playtime} for year, playtime in playtime_by_user_by_year[max_playtime_user].items()]\n",
    "\n",
    "        # Agregar el resultado al diccionario de resultados\n",
    "        results[genre] = {'Usuario con más horas jugadas': max_playtime_user, 'Horas jugadas por año': playtime_by_year}\n",
    "\n",
    "    # Devolver el diccionario con los resultados\n",
    "    return results\n"
   ]
  },
  {
   "cell_type": "code",
   "execution_count": 870,
   "metadata": {},
   "outputs": [],
   "source": [
    "df_user_with_most_playtime=users_with_most_playtime()"
   ]
  },
  {
   "cell_type": "code",
   "execution_count": 875,
   "metadata": {},
   "outputs": [],
   "source": [
    "\n",
    "\n",
    "# Inicializar una lista para almacenar los resultados\n",
    "results = []\n",
    "\n",
    "# Iterar sobre cada género en el diccionario\n",
    "for genre, info in df_user_with_most_playtime.items():\n",
    "    user = info['Usuario con más horas jugadas']\n",
    "    playtime_by_year = info['Horas jugadas por año']\n",
    "\n",
    "    # Agregar el resultado a la lista de resultados\n",
    "    results.append({'Género': genre, 'Usuario con más horas jugadas': user, 'Años y Horas': playtime_by_year})\n",
    "\n",
    "# Convertir la lista de resultados en un DataFrame\n",
    "df = pd.DataFrame(results)"
   ]
  },
  {
   "cell_type": "code",
   "execution_count": 877,
   "metadata": {},
   "outputs": [],
   "source": [
    "df.to_json(\"data_optimizada/user_with_most_playtime.json\", orient='records', lines=True)"
   ]
  },
  {
   "cell_type": "code",
   "execution_count": 878,
   "metadata": {},
   "outputs": [
    {
     "data": {
      "text/html": [
       "<div>\n",
       "<style scoped>\n",
       "    .dataframe tbody tr th:only-of-type {\n",
       "        vertical-align: middle;\n",
       "    }\n",
       "\n",
       "    .dataframe tbody tr th {\n",
       "        vertical-align: top;\n",
       "    }\n",
       "\n",
       "    .dataframe thead th {\n",
       "        text-align: right;\n",
       "    }\n",
       "</style>\n",
       "<table border=\"1\" class=\"dataframe\">\n",
       "  <thead>\n",
       "    <tr style=\"text-align: right;\">\n",
       "      <th></th>\n",
       "      <th>Género</th>\n",
       "      <th>Usuario con más horas jugadas</th>\n",
       "      <th>Años y Horas</th>\n",
       "    </tr>\n",
       "  </thead>\n",
       "  <tbody>\n",
       "    <tr>\n",
       "      <th>0</th>\n",
       "      <td>Design &amp;amp; Illustration</td>\n",
       "      <td>thugnificent</td>\n",
       "      <td>[{'Año': 2012, 'Horas': 799549}, {'Año': 2015,...</td>\n",
       "    </tr>\n",
       "    <tr>\n",
       "      <th>1</th>\n",
       "      <td>Education</td>\n",
       "      <td>thugnificent</td>\n",
       "      <td>[{'Año': 2014, 'Horas': 1599098}, {'Año': 2015...</td>\n",
       "    </tr>\n",
       "    <tr>\n",
       "      <th>2</th>\n",
       "      <td>Massively Multiplayer</td>\n",
       "      <td>REBAS_AS_F-T</td>\n",
       "      <td>[{'Año': 2013, 'Horas': 46603930}, {'Año': 201...</td>\n",
       "    </tr>\n",
       "  </tbody>\n",
       "</table>\n",
       "</div>"
      ],
      "text/plain": [
       "                      Género Usuario con más horas jugadas  \\\n",
       "0  Design &amp; Illustration                  thugnificent   \n",
       "1                  Education                  thugnificent   \n",
       "2      Massively Multiplayer                  REBAS_AS_F-T   \n",
       "\n",
       "                                        Años y Horas  \n",
       "0  [{'Año': 2012, 'Horas': 799549}, {'Año': 2015,...  \n",
       "1  [{'Año': 2014, 'Horas': 1599098}, {'Año': 2015...  \n",
       "2  [{'Año': 2013, 'Horas': 46603930}, {'Año': 201...  "
      ]
     },
     "execution_count": 878,
     "metadata": {},
     "output_type": "execute_result"
    }
   ],
   "source": [
    "df.head(3)"
   ]
  },
  {
   "cell_type": "code",
   "execution_count": 890,
   "metadata": {},
   "outputs": [],
   "source": [
    "df_user_with_most_playtime=pd.read_json('data_optimizada/user_with_most_playtime.json',lines=True)"
   ]
  },
  {
   "cell_type": "code",
   "execution_count": 891,
   "metadata": {},
   "outputs": [
    {
     "data": {
      "text/html": [
       "<div>\n",
       "<style scoped>\n",
       "    .dataframe tbody tr th:only-of-type {\n",
       "        vertical-align: middle;\n",
       "    }\n",
       "\n",
       "    .dataframe tbody tr th {\n",
       "        vertical-align: top;\n",
       "    }\n",
       "\n",
       "    .dataframe thead th {\n",
       "        text-align: right;\n",
       "    }\n",
       "</style>\n",
       "<table border=\"1\" class=\"dataframe\">\n",
       "  <thead>\n",
       "    <tr style=\"text-align: right;\">\n",
       "      <th></th>\n",
       "      <th>Género</th>\n",
       "      <th>Usuario con más horas jugadas</th>\n",
       "      <th>Años y Horas</th>\n",
       "    </tr>\n",
       "  </thead>\n",
       "  <tbody>\n",
       "    <tr>\n",
       "      <th>0</th>\n",
       "      <td>Design &amp;amp; Illustration</td>\n",
       "      <td>thugnificent</td>\n",
       "      <td>[{'Año': 2012, 'Horas': 799549}, {'Año': 2015,...</td>\n",
       "    </tr>\n",
       "    <tr>\n",
       "      <th>1</th>\n",
       "      <td>Education</td>\n",
       "      <td>thugnificent</td>\n",
       "      <td>[{'Año': 2014, 'Horas': 1599098}, {'Año': 2015...</td>\n",
       "    </tr>\n",
       "    <tr>\n",
       "      <th>2</th>\n",
       "      <td>Massively Multiplayer</td>\n",
       "      <td>REBAS_AS_F-T</td>\n",
       "      <td>[{'Año': 2013, 'Horas': 46603930}, {'Año': 201...</td>\n",
       "    </tr>\n",
       "    <tr>\n",
       "      <th>3</th>\n",
       "      <td>Strategy</td>\n",
       "      <td>Steamified</td>\n",
       "      <td>[{'Año': 2005, 'Horas': 18623693}, {'Año': 200...</td>\n",
       "    </tr>\n",
       "    <tr>\n",
       "      <th>4</th>\n",
       "      <td>Racing</td>\n",
       "      <td>REBAS_AS_F-T</td>\n",
       "      <td>[{'Año': 2010, 'Horas': 27962358}, {'Año': 200...</td>\n",
       "    </tr>\n",
       "    <tr>\n",
       "      <th>5</th>\n",
       "      <td>Utilities</td>\n",
       "      <td>thugnificent</td>\n",
       "      <td>[{'Año': 2014, 'Horas': 6396392}, {'Año': 2006...</td>\n",
       "    </tr>\n",
       "    <tr>\n",
       "      <th>6</th>\n",
       "      <td>Free to Play</td>\n",
       "      <td>REBAS_AS_F-T</td>\n",
       "      <td>[{'Año': 2009, 'Horas': 13981179}, {'Año': 201...</td>\n",
       "    </tr>\n",
       "    <tr>\n",
       "      <th>7</th>\n",
       "      <td>Audio Production</td>\n",
       "      <td>phrostb</td>\n",
       "      <td>[{'Año': 2015, 'Horas': 907654}]</td>\n",
       "    </tr>\n",
       "    <tr>\n",
       "      <th>8</th>\n",
       "      <td>RPG</td>\n",
       "      <td>REBAS_AS_F-T</td>\n",
       "      <td>[{'Año': 2007, 'Horas': 13981179}, {'Año': 201...</td>\n",
       "    </tr>\n",
       "    <tr>\n",
       "      <th>9</th>\n",
       "      <td>Simulation</td>\n",
       "      <td>REBAS_AS_F-T</td>\n",
       "      <td>[{'Año': 2011, 'Horas': 65245502}, {'Año': 201...</td>\n",
       "    </tr>\n",
       "    <tr>\n",
       "      <th>10</th>\n",
       "      <td>Software Training</td>\n",
       "      <td>thugnificent</td>\n",
       "      <td>[{'Año': 2014, 'Horas': 1599098}, {'Año': 2015...</td>\n",
       "    </tr>\n",
       "    <tr>\n",
       "      <th>11</th>\n",
       "      <td>Animation &amp;amp; Modeling</td>\n",
       "      <td>thugnificent</td>\n",
       "      <td>[{'Año': 2015, 'Horas': 3198196}, {'Año': 2013...</td>\n",
       "    </tr>\n",
       "    <tr>\n",
       "      <th>12</th>\n",
       "      <td>Action</td>\n",
       "      <td>REBAS_AS_F-T</td>\n",
       "      <td>[{'Año': 1999, 'Horas': 18641572}, {'Año': 199...</td>\n",
       "    </tr>\n",
       "    <tr>\n",
       "      <th>13</th>\n",
       "      <td>Indie</td>\n",
       "      <td>Steamified</td>\n",
       "      <td>[{'Año': 2008, 'Horas': 42326575}, {'Año': 200...</td>\n",
       "    </tr>\n",
       "    <tr>\n",
       "      <th>14</th>\n",
       "      <td>Adventure</td>\n",
       "      <td>REBAS_AS_F-T</td>\n",
       "      <td>[{'Año': 2009, 'Horas': 60585109}, {'Año': 201...</td>\n",
       "    </tr>\n",
       "    <tr>\n",
       "      <th>15</th>\n",
       "      <td>Sports</td>\n",
       "      <td>REBAS_AS_F-T</td>\n",
       "      <td>[{'Año': 2009, 'Horas': 9320786}, {'Año': 2011...</td>\n",
       "    </tr>\n",
       "    <tr>\n",
       "      <th>16</th>\n",
       "      <td>Web Publishing</td>\n",
       "      <td>Steamified</td>\n",
       "      <td>[{'Año': 2012, 'Horas': 1693063}, {'Año': 2005...</td>\n",
       "    </tr>\n",
       "    <tr>\n",
       "      <th>17</th>\n",
       "      <td>Photo Editing</td>\n",
       "      <td>DownSyndromeKid</td>\n",
       "      <td>[{'Año': 2015, 'Horas': 2790419}]</td>\n",
       "    </tr>\n",
       "    <tr>\n",
       "      <th>18</th>\n",
       "      <td>Video Production</td>\n",
       "      <td>piepai</td>\n",
       "      <td>[{'Año': 2015, 'Horas': 1679822}, {'Año': 2006...</td>\n",
       "    </tr>\n",
       "    <tr>\n",
       "      <th>19</th>\n",
       "      <td>Early Access</td>\n",
       "      <td>phrostb</td>\n",
       "      <td>[{'Año': 2014, 'Horas': 34490852}, {'Año': 201...</td>\n",
       "    </tr>\n",
       "    <tr>\n",
       "      <th>20</th>\n",
       "      <td>Casual</td>\n",
       "      <td>REBAS_AS_F-T</td>\n",
       "      <td>[{'Año': 2010, 'Horas': 32622751}, {'Año': 201...</td>\n",
       "    </tr>\n",
       "  </tbody>\n",
       "</table>\n",
       "</div>"
      ],
      "text/plain": [
       "                       Género Usuario con más horas jugadas  \\\n",
       "0   Design &amp; Illustration                  thugnificent   \n",
       "1                   Education                  thugnificent   \n",
       "2       Massively Multiplayer                  REBAS_AS_F-T   \n",
       "3                    Strategy                    Steamified   \n",
       "4                      Racing                  REBAS_AS_F-T   \n",
       "5                   Utilities                  thugnificent   \n",
       "6                Free to Play                  REBAS_AS_F-T   \n",
       "7            Audio Production                       phrostb   \n",
       "8                         RPG                  REBAS_AS_F-T   \n",
       "9                  Simulation                  REBAS_AS_F-T   \n",
       "10          Software Training                  thugnificent   \n",
       "11   Animation &amp; Modeling                  thugnificent   \n",
       "12                     Action                  REBAS_AS_F-T   \n",
       "13                      Indie                    Steamified   \n",
       "14                  Adventure                  REBAS_AS_F-T   \n",
       "15                     Sports                  REBAS_AS_F-T   \n",
       "16             Web Publishing                    Steamified   \n",
       "17              Photo Editing               DownSyndromeKid   \n",
       "18           Video Production                        piepai   \n",
       "19               Early Access                       phrostb   \n",
       "20                     Casual                  REBAS_AS_F-T   \n",
       "\n",
       "                                         Años y Horas  \n",
       "0   [{'Año': 2012, 'Horas': 799549}, {'Año': 2015,...  \n",
       "1   [{'Año': 2014, 'Horas': 1599098}, {'Año': 2015...  \n",
       "2   [{'Año': 2013, 'Horas': 46603930}, {'Año': 201...  \n",
       "3   [{'Año': 2005, 'Horas': 18623693}, {'Año': 200...  \n",
       "4   [{'Año': 2010, 'Horas': 27962358}, {'Año': 200...  \n",
       "5   [{'Año': 2014, 'Horas': 6396392}, {'Año': 2006...  \n",
       "6   [{'Año': 2009, 'Horas': 13981179}, {'Año': 201...  \n",
       "7                    [{'Año': 2015, 'Horas': 907654}]  \n",
       "8   [{'Año': 2007, 'Horas': 13981179}, {'Año': 201...  \n",
       "9   [{'Año': 2011, 'Horas': 65245502}, {'Año': 201...  \n",
       "10  [{'Año': 2014, 'Horas': 1599098}, {'Año': 2015...  \n",
       "11  [{'Año': 2015, 'Horas': 3198196}, {'Año': 2013...  \n",
       "12  [{'Año': 1999, 'Horas': 18641572}, {'Año': 199...  \n",
       "13  [{'Año': 2008, 'Horas': 42326575}, {'Año': 200...  \n",
       "14  [{'Año': 2009, 'Horas': 60585109}, {'Año': 201...  \n",
       "15  [{'Año': 2009, 'Horas': 9320786}, {'Año': 2011...  \n",
       "16  [{'Año': 2012, 'Horas': 1693063}, {'Año': 2005...  \n",
       "17                  [{'Año': 2015, 'Horas': 2790419}]  \n",
       "18  [{'Año': 2015, 'Horas': 1679822}, {'Año': 2006...  \n",
       "19  [{'Año': 2014, 'Horas': 34490852}, {'Año': 201...  \n",
       "20  [{'Año': 2010, 'Horas': 32622751}, {'Año': 201...  "
      ]
     },
     "execution_count": 891,
     "metadata": {},
     "output_type": "execute_result"
    }
   ],
   "source": [
    "df_user_with_most_playtime"
   ]
  },
  {
   "cell_type": "code",
   "execution_count": 892,
   "metadata": {},
   "outputs": [],
   "source": [
    "def get_user_with_most_playtime(genre):\n",
    "    # Filtrar el DataFrame por el género dado\n",
    "    df_genre = df_user_with_most_playtime[df_user_with_most_playtime['Género'] == genre]\n",
    "\n",
    "    # Si no hay datos para el género dado, devolver un mensaje indicando esto\n",
    "    if df_genre.empty:\n",
    "        return f\"No hay datos disponibles para el género {genre}.\"\n",
    "\n",
    "    # Obtener el usuario con más horas jugadas para el género dado\n",
    "    user = df_genre['Usuario con más horas jugadas'].iloc[0]\n",
    "\n",
    "    # Obtener la lista de la acumulación de horas jugadas por año\n",
    "    playtime_by_year = df_genre['Años y Horas'].iloc[0]\n",
    "\n",
    "    # Devolver un diccionario con el usuario con más horas jugadas y la lista de la acumulación de horas jugadas por año\n",
    "    return {\"Usuario con más horas jugadas para \" + genre: user, \"Horas jugadas\": playtime_by_year}\n"
   ]
  },
  {
   "cell_type": "code",
   "execution_count": 893,
   "metadata": {},
   "outputs": [
    {
     "data": {
      "text/plain": [
       "{'Usuario con más horas jugadas para Action': 'REBAS_AS_F-T',\n",
       " 'Horas jugadas': [{'Año': 1999, 'Horas': 18641572},\n",
       "  {'Año': 1998, 'Horas': 13981179},\n",
       "  {'Año': 2001, 'Horas': 9320786},\n",
       "  {'Año': 2005, 'Horas': 32622751},\n",
       "  {'Año': 2000, 'Horas': 13981179},\n",
       "  {'Año': 2007, 'Horas': 41943537},\n",
       "  {'Año': 2016, 'Horas': 587209518},\n",
       "  {'Año': 2004, 'Horas': 32622751},\n",
       "  {'Año': 2006, 'Horas': 32622751},\n",
       "  {'Año': 2008, 'Horas': 69905895},\n",
       "  {'Año': 2009, 'Horas': 116509825},\n",
       "  {'Año': 2010, 'Horas': 158453362},\n",
       "  {'Año': 2011, 'Horas': 209717685},\n",
       "  {'Año': 2012, 'Horas': 335548296},\n",
       "  {'Año': 2013, 'Horas': 354189868},\n",
       "  {'Año': 2015, 'Horas': 759644059},\n",
       "  {'Año': 2014, 'Horas': 708379736},\n",
       "  {'Año': 2003, 'Horas': 13981179},\n",
       "  {'Año': 2017, 'Horas': 55924716},\n",
       "  {'Año': 2002, 'Horas': 23301965},\n",
       "  {'Año': 1996, 'Horas': 4660393}]}"
      ]
     },
     "execution_count": 893,
     "metadata": {},
     "output_type": "execute_result"
    }
   ],
   "source": [
    "get_user_with_most_playtime(\"Action\")"
   ]
  },
  {
   "cell_type": "markdown",
   "metadata": {},
   "source": [
    "### FUNCION 3"
   ]
  },
  {
   "cell_type": "code",
   "execution_count": 414,
   "metadata": {},
   "outputs": [],
   "source": [
    "from datetime import datetime\n",
    "from collections import Counter\n",
    "\n",
    "def top_recommended_games(year):\n",
    "    # Aquí asumimos que df_review y df_steam_games son variables globales\n",
    "    global df_review, df_steam_games\n",
    "\n",
    "    def extract_year(release_date):\n",
    "        # Función auxiliar para extraer el año de 'release_date'\n",
    "        try:\n",
    "            return datetime.strptime(release_date, '%Y-%m-%d').year\n",
    "        except (TypeError, ValueError):\n",
    "            return None\n",
    "\n",
    "    # Filtramos los juegos que fueron lanzados en el año especificado\n",
    "    df_year = df_review[df_review['games_info'].apply(lambda x: any((\n",
    "        isinstance(d, dict) and 'release_date' in d and \n",
    "        (('release_date' in d and isinstance(d['release_date'], datetime) and d['release_date'].year == year) or\n",
    "         ('release_date' in d and isinstance(d['release_date'], str) and extract_year(d['release_date']) == year))\n",
    "    ) for d in x))]\n",
    "\n",
    "    # Aplanamos la lista de 'recomended_item_id' y contamos las recomendaciones para cada ID\n",
    "    id_list = [id for sublist in df_year['recomended_item_id'].tolist() for id in sublist]\n",
    "    recommend_count = Counter(id_list)\n",
    "\n",
    "    # Obtenemos los tres juegos más recomendados\n",
    "    top_games = recommend_count.most_common(3)\n",
    "    \n",
    "    # Creamos un diccionario con los nombres de los juegos\n",
    "    game_names = {game_id: df_steam_games.loc[df_steam_games['id'] == game_id, 'app_name'].values[0] for game_id, _ in top_games}\n",
    "    \n",
    "    # Devolvemos una lista de diccionarios con los puestos y los nombres de los juegos\n",
    "    return [{\"Puesto {}\".format(i+1): game_names[id]} for i, (id, count) in enumerate(top_games)]\n"
   ]
  },
  {
   "cell_type": "code",
   "execution_count": 415,
   "metadata": {},
   "outputs": [
    {
     "data": {
      "text/plain": [
       "[{'Puesto 1': 'Counter-Strike: Global Offensive'},\n",
       " {'Puesto 2': 'Team Fortress 2'},\n",
       " {'Puesto 3': \"Garry's Mod\"}]"
      ]
     },
     "execution_count": 415,
     "metadata": {},
     "output_type": "execute_result"
    }
   ],
   "source": [
    "top_recommended_games(2015)"
   ]
  },
  {
   "cell_type": "code",
   "execution_count": 416,
   "metadata": {},
   "outputs": [
    {
     "ename": "KeyboardInterrupt",
     "evalue": "",
     "output_type": "error",
     "traceback": [
      "\u001b[1;31m---------------------------------------------------------------------------\u001b[0m",
      "\u001b[1;31mKeyboardInterrupt\u001b[0m                         Traceback (most recent call last)",
      "Cell \u001b[1;32mIn[416], line 9\u001b[0m\n\u001b[0;32m      7\u001b[0m     \u001b[38;5;28;01mif\u001b[39;00m row[\u001b[38;5;124m'\u001b[39m\u001b[38;5;124mgames_info\u001b[39m\u001b[38;5;124m'\u001b[39m] \u001b[38;5;129;01mis\u001b[39;00m \u001b[38;5;129;01mnot\u001b[39;00m \u001b[38;5;28;01mNone\u001b[39;00m:\n\u001b[0;32m      8\u001b[0m         \u001b[38;5;28;01mfor\u001b[39;00m game_info \u001b[38;5;129;01min\u001b[39;00m row[\u001b[38;5;124m'\u001b[39m\u001b[38;5;124mgames_info\u001b[39m\u001b[38;5;124m'\u001b[39m]:\n\u001b[1;32m----> 9\u001b[0m             year \u001b[38;5;241m=\u001b[39m \u001b[43mpd\u001b[49m\u001b[38;5;241;43m.\u001b[39;49m\u001b[43mto_datetime\u001b[49m\u001b[43m(\u001b[49m\u001b[43mgame_info\u001b[49m\u001b[43m[\u001b[49m\u001b[38;5;124;43m'\u001b[39;49m\u001b[38;5;124;43mrelease_date\u001b[39;49m\u001b[38;5;124;43m'\u001b[39;49m\u001b[43m]\u001b[49m\u001b[43m)\u001b[49m\u001b[38;5;241m.\u001b[39myear\n\u001b[0;32m     10\u001b[0m             years\u001b[38;5;241m.\u001b[39mappend(year)\n\u001b[0;32m     12\u001b[0m \u001b[38;5;66;03m# Crear un DataFrame con los años únicos\u001b[39;00m\n",
      "File \u001b[1;32m~\\AppData\\Local\\Packages\\PythonSoftwareFoundation.Python.3.9_qbz5n2kfra8p0\\LocalCache\\local-packages\\Python39\\site-packages\\pandas\\core\\tools\\datetimes.py:1146\u001b[0m, in \u001b[0;36mto_datetime\u001b[1;34m(arg, errors, dayfirst, yearfirst, utc, format, exact, unit, infer_datetime_format, origin, cache)\u001b[0m\n\u001b[0;32m   1144\u001b[0m         result \u001b[38;5;241m=\u001b[39m convert_listlike(argc, \u001b[38;5;28mformat\u001b[39m)\n\u001b[0;32m   1145\u001b[0m \u001b[38;5;28;01melse\u001b[39;00m:\n\u001b[1;32m-> 1146\u001b[0m     result \u001b[38;5;241m=\u001b[39m \u001b[43mconvert_listlike\u001b[49m\u001b[43m(\u001b[49m\u001b[43mnp\u001b[49m\u001b[38;5;241;43m.\u001b[39;49m\u001b[43marray\u001b[49m\u001b[43m(\u001b[49m\u001b[43m[\u001b[49m\u001b[43marg\u001b[49m\u001b[43m]\u001b[49m\u001b[43m)\u001b[49m\u001b[43m,\u001b[49m\u001b[43m \u001b[49m\u001b[38;5;28;43mformat\u001b[39;49m\u001b[43m)\u001b[49m[\u001b[38;5;241m0\u001b[39m]\n\u001b[0;32m   1147\u001b[0m     \u001b[38;5;28;01mif\u001b[39;00m \u001b[38;5;28misinstance\u001b[39m(arg, \u001b[38;5;28mbool\u001b[39m) \u001b[38;5;129;01mand\u001b[39;00m \u001b[38;5;28misinstance\u001b[39m(result, np\u001b[38;5;241m.\u001b[39mbool_):\n\u001b[0;32m   1148\u001b[0m         result \u001b[38;5;241m=\u001b[39m \u001b[38;5;28mbool\u001b[39m(result)  \u001b[38;5;66;03m# TODO: avoid this kludge.\u001b[39;00m\n",
      "File \u001b[1;32m~\\AppData\\Local\\Packages\\PythonSoftwareFoundation.Python.3.9_qbz5n2kfra8p0\\LocalCache\\local-packages\\Python39\\site-packages\\pandas\\core\\tools\\datetimes.py:484\u001b[0m, in \u001b[0;36m_convert_listlike_datetimes\u001b[1;34m(arg, format, name, utc, unit, errors, dayfirst, yearfirst, exact)\u001b[0m\n\u001b[0;32m    481\u001b[0m arg \u001b[38;5;241m=\u001b[39m ensure_object(arg)\n\u001b[0;32m    483\u001b[0m \u001b[38;5;28;01mif\u001b[39;00m \u001b[38;5;28mformat\u001b[39m \u001b[38;5;129;01mis\u001b[39;00m \u001b[38;5;28;01mNone\u001b[39;00m:\n\u001b[1;32m--> 484\u001b[0m     \u001b[38;5;28mformat\u001b[39m \u001b[38;5;241m=\u001b[39m \u001b[43m_guess_datetime_format_for_array\u001b[49m\u001b[43m(\u001b[49m\u001b[43marg\u001b[49m\u001b[43m,\u001b[49m\u001b[43m \u001b[49m\u001b[43mdayfirst\u001b[49m\u001b[38;5;241;43m=\u001b[39;49m\u001b[43mdayfirst\u001b[49m\u001b[43m)\u001b[49m\n\u001b[0;32m    486\u001b[0m \u001b[38;5;66;03m# `format` could be inferred, or user didn't ask for mixed-format parsing.\u001b[39;00m\n\u001b[0;32m    487\u001b[0m \u001b[38;5;28;01mif\u001b[39;00m \u001b[38;5;28mformat\u001b[39m \u001b[38;5;129;01mis\u001b[39;00m \u001b[38;5;129;01mnot\u001b[39;00m \u001b[38;5;28;01mNone\u001b[39;00m \u001b[38;5;129;01mand\u001b[39;00m \u001b[38;5;28mformat\u001b[39m \u001b[38;5;241m!=\u001b[39m \u001b[38;5;124m\"\u001b[39m\u001b[38;5;124mmixed\u001b[39m\u001b[38;5;124m\"\u001b[39m:\n",
      "File \u001b[1;32m~\\AppData\\Local\\Packages\\PythonSoftwareFoundation.Python.3.9_qbz5n2kfra8p0\\LocalCache\\local-packages\\Python39\\site-packages\\pandas\\core\\tools\\datetimes.py:138\u001b[0m, in \u001b[0;36m_guess_datetime_format_for_array\u001b[1;34m(arr, dayfirst)\u001b[0m\n\u001b[0;32m    135\u001b[0m \u001b[38;5;28;01mif\u001b[39;00m (first_non_null \u001b[38;5;241m:=\u001b[39m tslib\u001b[38;5;241m.\u001b[39mfirst_non_null(arr)) \u001b[38;5;241m!=\u001b[39m \u001b[38;5;241m-\u001b[39m\u001b[38;5;241m1\u001b[39m:\n\u001b[0;32m    136\u001b[0m     \u001b[38;5;28;01mif\u001b[39;00m \u001b[38;5;28mtype\u001b[39m(first_non_nan_element \u001b[38;5;241m:=\u001b[39m arr[first_non_null]) \u001b[38;5;129;01mis\u001b[39;00m \u001b[38;5;28mstr\u001b[39m:\n\u001b[0;32m    137\u001b[0m         \u001b[38;5;66;03m# GH#32264 np.str_ object\u001b[39;00m\n\u001b[1;32m--> 138\u001b[0m         guessed_format \u001b[38;5;241m=\u001b[39m \u001b[43mguess_datetime_format\u001b[49m\u001b[43m(\u001b[49m\n\u001b[0;32m    139\u001b[0m \u001b[43m            \u001b[49m\u001b[43mfirst_non_nan_element\u001b[49m\u001b[43m,\u001b[49m\u001b[43m \u001b[49m\u001b[43mdayfirst\u001b[49m\u001b[38;5;241;43m=\u001b[39;49m\u001b[43mdayfirst\u001b[49m\n\u001b[0;32m    140\u001b[0m \u001b[43m        \u001b[49m\u001b[43m)\u001b[49m\n\u001b[0;32m    141\u001b[0m         \u001b[38;5;28;01mif\u001b[39;00m guessed_format \u001b[38;5;129;01mis\u001b[39;00m \u001b[38;5;129;01mnot\u001b[39;00m \u001b[38;5;28;01mNone\u001b[39;00m:\n\u001b[0;32m    142\u001b[0m             \u001b[38;5;28;01mreturn\u001b[39;00m guessed_format\n",
      "File \u001b[1;32mparsing.pyx:986\u001b[0m, in \u001b[0;36mpandas._libs.tslibs.parsing.guess_datetime_format\u001b[1;34m()\u001b[0m\n",
      "File \u001b[1;32mparsing.pyx:1045\u001b[0m, in \u001b[0;36mpandas._libs.tslibs.parsing._fill_token\u001b[1;34m()\u001b[0m\n",
      "File \u001b[1;32mC:\\Program Files\\WindowsApps\\PythonSoftwareFoundation.Python.3.9_3.9.3568.0_x64__qbz5n2kfra8p0\\lib\\re.py:201\u001b[0m, in \u001b[0;36msearch\u001b[1;34m(pattern, string, flags)\u001b[0m\n\u001b[0;32m    198\u001b[0m \u001b[38;5;28;01mdef\u001b[39;00m \u001b[38;5;21msearch\u001b[39m(pattern, string, flags\u001b[38;5;241m=\u001b[39m\u001b[38;5;241m0\u001b[39m):\n\u001b[0;32m    199\u001b[0m \u001b[38;5;250m    \u001b[39m\u001b[38;5;124;03m\"\"\"Scan through string looking for a match to the pattern, returning\u001b[39;00m\n\u001b[0;32m    200\u001b[0m \u001b[38;5;124;03m    a Match object, or None if no match was found.\"\"\"\u001b[39;00m\n\u001b[1;32m--> 201\u001b[0m     \u001b[38;5;28;01mreturn\u001b[39;00m \u001b[43m_compile\u001b[49m(pattern, flags)\u001b[38;5;241m.\u001b[39msearch(string)\n",
      "\u001b[1;31mKeyboardInterrupt\u001b[0m: "
     ]
    }
   ],
   "source": [
    "import pandas as pd\n",
    "\n",
    "df = df_original.copy()\n",
    "\n",
    "years = []\n",
    "for _, row in df.iterrows():\n",
    "    if row['games_info'] is not None:\n",
    "        for game_info in row['games_info']:\n",
    "            year = pd.to_datetime(game_info['release_date']).year\n",
    "            years.append(year)\n",
    "\n",
    "# Crear un DataFrame con los años únicos\n",
    "unique_years = pd.DataFrame(list(set(years)), columns=['year'])\n",
    "\n",
    "unique_years"
   ]
  },
  {
   "cell_type": "markdown",
   "metadata": {},
   "source": [
    "### FUNCION 4"
   ]
  },
  {
   "cell_type": "code",
   "execution_count": 411,
   "metadata": {},
   "outputs": [],
   "source": [
    "from datetime import datetime\n",
    "from collections import Counter\n",
    "\n",
    "def top_not_recommended_games(year):\n",
    "    # Aquí asumimos que df_review y df_steam_games son variables globales\n",
    "    global df_review, df_steam_games\n",
    "\n",
    "    def extract_year(release_date):\n",
    "        # Función auxiliar para extraer el año de 'release_date'\n",
    "        try:\n",
    "            return datetime.strptime(release_date, '%Y-%m-%d').year\n",
    "        except (TypeError, ValueError):\n",
    "            return None\n",
    "\n",
    "    # Filtramos los juegos que fueron lanzados en el año especificado y no son recomendados\n",
    "    df_year = df_review[(df_review['games_info'].apply(lambda x: any(\n",
    "        isinstance(d, dict) and 'release_date' in d and \n",
    "        (('release_date' in d and isinstance(d['release_date'], datetime) and d['release_date'].year == year) or\n",
    "         ('release_date' in d and isinstance(d['release_date'], str) and extract_year(d['release_date']) == year))\n",
    "    for d in x))) & (df_review['recommend'].apply(lambda x: all(not r for r in x)))]\n",
    "\n",
    "    # Aplanamos la lista de 'recomended_item_id' y contamos las recomendaciones para cada ID\n",
    "    id_list = [id for sublist in df_year['recomended_item_id'].tolist() for id in sublist]\n",
    "    recommend_count = Counter(id_list)\n",
    "\n",
    "    # Obtenemos los tres juegos menos recomendados\n",
    "    top_games = recommend_count.most_common()[:-4:-1]\n",
    "    \n",
    "    # Creamos un diccionario con los nombres de los juegos\n",
    "    game_names = {game_id: df_steam_games.loc[df_steam_games['id'] == game_id, 'app_name'].values[0] for game_id, _ in top_games}\n",
    "    \n",
    "    # Devolvemos una lista de diccionarios con los puestos y los nombres de los juegos\n",
    "    return [{\"Puesto {}\".format(i+1): game_names[id]} for i, (id, count) in enumerate(top_games)]\n"
   ]
  },
  {
   "cell_type": "code",
   "execution_count": 412,
   "metadata": {},
   "outputs": [
    {
     "data": {
      "text/plain": [
       "[{'Puesto 1': 'Call of Duty®: Advanced Warfare - Havoc'},\n",
       " {'Puesto 2': \"Saint's Row: Gat Out of Hell - Devil's Workshop Pack\"},\n",
       " {'Puesto 3': 'Mad Max'}]"
      ]
     },
     "execution_count": 412,
     "metadata": {},
     "output_type": "execute_result"
    }
   ],
   "source": [
    "top_not_recommended_games(2015)"
   ]
  },
  {
   "cell_type": "markdown",
   "metadata": {},
   "source": [
    "### FUNCION 5"
   ]
  },
  {
   "cell_type": "code",
   "execution_count": 449,
   "metadata": {},
   "outputs": [
    {
     "data": {
      "text/html": [
       "<div>\n",
       "<style scoped>\n",
       "    .dataframe tbody tr th:only-of-type {\n",
       "        vertical-align: middle;\n",
       "    }\n",
       "\n",
       "    .dataframe tbody tr th {\n",
       "        vertical-align: top;\n",
       "    }\n",
       "\n",
       "    .dataframe thead th {\n",
       "        text-align: right;\n",
       "    }\n",
       "</style>\n",
       "<table border=\"1\" class=\"dataframe\">\n",
       "  <thead>\n",
       "    <tr style=\"text-align: right;\">\n",
       "      <th></th>\n",
       "      <th>recomended_item_id</th>\n",
       "      <th>sentiment_analysis</th>\n",
       "      <th>recommend</th>\n",
       "      <th>games_info</th>\n",
       "      <th>release_date</th>\n",
       "    </tr>\n",
       "  </thead>\n",
       "  <tbody>\n",
       "    <tr>\n",
       "      <th>24211</th>\n",
       "      <td>[417860]</td>\n",
       "      <td>[2]</td>\n",
       "      <td>[True]</td>\n",
       "      <td>[{'publisher': 'Kyle Seeley', 'genres': ['Adve...</td>\n",
       "      <td>[2015-11-20]</td>\n",
       "    </tr>\n",
       "  </tbody>\n",
       "</table>\n",
       "</div>"
      ],
      "text/plain": [
       "      recomended_item_id sentiment_analysis recommend  \\\n",
       "24211           [417860]                [2]    [True]   \n",
       "\n",
       "                                              games_info  release_date  \n",
       "24211  [{'publisher': 'Kyle Seeley', 'genres': ['Adve...  [2015-11-20]  "
      ]
     },
     "execution_count": 449,
     "metadata": {},
     "output_type": "execute_result"
    }
   ],
   "source": [
    "df_review.sample(1)"
   ]
  },
  {
   "cell_type": "code",
   "execution_count": 472,
   "metadata": {},
   "outputs": [],
   "source": [
    "def sentiment_count(year):\n",
    "    df=df_review.copy()\n",
    "    # Primero, vamos a \"normalizar\" la columna games_info para extraer el año de lanzamiento\n",
    "    df['release_year'] = df['games_info'].apply(lambda x: [d.get('release_date')[:4] for d in x if 'release_date' in d])\n",
    "\n",
    "    # Ahora, vamos a \"explotar\" las listas en las columnas para que cada elemento tenga su propia fila\n",
    "    df = df.explode('release_year').explode('sentiment_analysis')\n",
    "\n",
    "    # Filtramos el dataframe por el año dado\n",
    "    df_year = df[df['release_year'] == str(year)]\n",
    "\n",
    "    # Contamos los valores de análisis de sentimiento\n",
    "    sentiment_counts = df_year['sentiment_analysis'].value_counts()\n",
    "\n",
    "    # Convertimos los enteros de análisis de sentimiento a cadenas\n",
    "    sentiment_dict = {\"Negative\": int(sentiment_counts.get(0, 0)), \n",
    "                      \"Neutral\": int(sentiment_counts.get(1, 0)), \n",
    "                      \"Positive\": int(sentiment_counts.get(2, 0))}\n",
    "    \n",
    "    return sentiment_dict\n"
   ]
  },
  {
   "cell_type": "code",
   "execution_count": 473,
   "metadata": {},
   "outputs": [
    {
     "data": {
      "text/plain": [
       "{'Negative': 36, 'Neutral': 30, 'Positive': 87}"
      ]
     },
     "execution_count": 473,
     "metadata": {},
     "output_type": "execute_result"
    }
   ],
   "source": [
    "sentiment_count(2001)"
   ]
  },
  {
   "cell_type": "markdown",
   "metadata": {},
   "source": [
    "### FUNCION 6"
   ]
  },
  {
   "cell_type": "code",
   "execution_count": 828,
   "metadata": {},
   "outputs": [],
   "source": [
    "from sklearn.metrics.pairwise import cosine_similarity\n",
    "from sklearn.feature_extraction.text import TfidfVectorizer\n",
    "\n",
    "def sistema_recomendacion_item_item(id_producto):\n",
    "    df=df_steam_games\n",
    "    def obtener_datos_producto(df, id_producto):\n",
    "        # Esta función debería devolver los datos del producto con el id dado\n",
    "        producto_df = df[df['id'] == id_producto]\n",
    "        if not producto_df.empty:\n",
    "            producto_info = producto_df[['publisher', 'genres', 'app_name', 'title', 'tags', 'specs', 'price', 'early_access', 'developer']].values[0]\n",
    "            return ' '.join(map(str, producto_info))\n",
    "        else:\n",
    "            return None\n",
    "\n",
    "    def calcular_similitud_coseno(producto, todos_los_productos):\n",
    "        # Esta función debería calcular la similitud del coseno entre el producto dado y todos los demás productos\n",
    "        vectorizer = TfidfVectorizer()\n",
    "        producto_vec = vectorizer.fit_transform([producto])\n",
    "        todos_los_productos_vec = vectorizer.transform(todos_los_productos)\n",
    "        \n",
    "        # Luego, calculamos la similitud del coseno\n",
    "        similitudes = cosine_similarity(producto_vec, todos_los_productos_vec)\n",
    "        return similitudes\n",
    "\n",
    "    def ordenar_por_similitud(similitudes):\n",
    "        # Esta función debería ordenar los productos por similitud\n",
    "        return similitudes.argsort()\n",
    "\n",
    "    # Obtén los datos del producto\n",
    "    producto = obtener_datos_producto(df, id_producto)\n",
    "    \n",
    "    # Si el producto no existe, devuelve un mensaje de error\n",
    "    if producto is None:\n",
    "        return {\"Error\": f\"No se encontró ningún producto con el id {id_producto}\"}\n",
    "    \n",
    "    # Si el producto existe, calcula la similitud del coseno entre el producto y todos los demás productos\n",
    "    todos_los_productos = [' '.join(map(str, x)) for x in df[['publisher', 'genres', 'app_name', 'title', 'tags', 'specs', 'price', 'early_access', 'developer']].values]\n",
    "    similitudes = calcular_similitud_coseno(producto, todos_los_productos)\n",
    "    \n",
    "    # Ordena los productos por similitud y toma los 5 más similares\n",
    "    productos_similares = ordenar_por_similitud(similitudes)[0][-5:]\n",
    "    \n",
    "    # Devuelve los productos similares en formato de diccionario con id y nombre del producto\n",
    "    return {id: nombre for id, nombre in zip(df.iloc[productos_similares]['id'], df.iloc[productos_similares]['app_name'])}\n"
   ]
  },
  {
   "cell_type": "code",
   "execution_count": 829,
   "metadata": {},
   "outputs": [
    {
     "data": {
      "text/plain": [
       "{47895: 'The Sims™ 3 High-End Loft Stuff',\n",
       " 47899: 'The Sims™ 3 Town Life Stuff',\n",
       " 47896: 'The Sims™ 3 Fast Lane Stuff',\n",
       " 47931: 'The Sims™ 3 Master Suite Stuff',\n",
       " 223592: 'The Sims 3: Diesel Stuff'}"
      ]
     },
     "execution_count": 829,
     "metadata": {},
     "output_type": "execute_result"
    }
   ],
   "source": [
    "sistema_recomendacion_item_item(223592)\n"
   ]
  },
  {
   "cell_type": "markdown",
   "metadata": {},
   "source": [
    "### FUNCION 7"
   ]
  },
  {
   "cell_type": "code",
   "execution_count": 33,
   "metadata": {},
   "outputs": [
    {
     "ename": "NameError",
     "evalue": "name 'df_user_info' is not defined",
     "output_type": "error",
     "traceback": [
      "\u001b[1;31m---------------------------------------------------------------------------\u001b[0m",
      "\u001b[1;31mNameError\u001b[0m                                 Traceback (most recent call last)",
      "Cell \u001b[1;32mIn[33], line 1\u001b[0m\n\u001b[1;32m----> 1\u001b[0m \u001b[43mdf_user_info\u001b[49m\u001b[38;5;241m.\u001b[39msample(\u001b[38;5;241m10\u001b[39m)\n",
      "\u001b[1;31mNameError\u001b[0m: name 'df_user_info' is not defined"
     ]
    }
   ],
   "source": [
    "df_user_info.sample(10)"
   ]
  },
  {
   "cell_type": "code",
   "execution_count": 790,
   "metadata": {},
   "outputs": [
    {
     "data": {
      "text/plain": [
       "Index(['publisher', 'genres', 'app_name', 'title', 'url', 'release_date',\n",
       "       'tags', 'reviews_url', 'specs', 'price', 'early_access', 'id',\n",
       "       'developer'],\n",
       "      dtype='object')"
      ]
     },
     "execution_count": 790,
     "metadata": {},
     "output_type": "execute_result"
    }
   ],
   "source": [
    "df_steam_games.columns"
   ]
  },
  {
   "cell_type": "code",
   "execution_count": 818,
   "metadata": {},
   "outputs": [],
   "source": [
    "from sklearn.metrics.pairwise import cosine_similarity\n",
    "from sklearn.feature_extraction.text import TfidfVectorizer\n",
    "\n",
    "def sistema_recomendacion_user_item(id_usuario):\n",
    "    df_user = df_user_info.copy()\n",
    "    df_item = df_steam_games.copy()\n",
    "\n",
    "    def obtener_datos_usuario(df, id_usuario):\n",
    "        # Esta función debería devolver los datos del usuario con el id dado\n",
    "        usuario_df = df[df['user_id'] == id_usuario]\n",
    "        if not usuario_df.empty:\n",
    "            usuario_info = usuario_df[['steam_id', 'user_url', 'user_item_id', 'played_item_name', 'playtime_forever', 'playtime_2weeks', 'review_content', 'recomended_item_id', 'sentiment_analysis', 'recommend']].values[0]\n",
    "            return ' '.join(map(str, usuario_info))\n",
    "        else:\n",
    "            return None\n",
    "\n",
    "    def calcular_similitud_coseno(usuario, todos_los_productos):\n",
    "        # Esta función debería calcular la similitud del coseno entre el usuario dado y todos los productos\n",
    "        vectorizer = TfidfVectorizer()\n",
    "        usuario_vec = vectorizer.fit_transform([usuario])\n",
    "        todos_los_productos_vec = vectorizer.transform(todos_los_productos)\n",
    "        \n",
    "        # Luego, calculamos la similitud del coseno\n",
    "        similitudes = cosine_similarity(usuario_vec, todos_los_productos_vec)\n",
    "        return similitudes\n",
    "\n",
    "    def ordenar_por_similitud(similitudes):\n",
    "        # Esta función debería ordenar los productos por similitud\n",
    "        return similitudes.argsort()\n",
    "\n",
    "    # Obtén los datos del usuario\n",
    "    usuario = obtener_datos_usuario(df_user, id_usuario)\n",
    "    \n",
    "    # Si el usuario no existe, devuelve un mensaje de error\n",
    "    if usuario is None:\n",
    "        return {\"Error\": f\"No se encontró ningún usuario con el id {id_usuario}\"}\n",
    "    \n",
    "    # Si el usuario existe, calcula la similitud del coseno entre el usuario y todos los productos\n",
    "    todos_los_productos = [' '.join(map(str, x)) for x in df_item[['publisher', 'genres', 'app_name', 'title', 'tags', 'specs', 'price', 'early_access', 'developer']].values]\n",
    "    similitudes = calcular_similitud_coseno(usuario, todos_los_productos)\n",
    "    \n",
    "    # Ordena los productos por similitud y toma los 5 más similares\n",
    "    productos_similares = ordenar_por_similitud(similitudes)[0][-5:]\n",
    "    \n",
    "    # Devuelve los productos similares en formato de diccionario con id y nombre del producto\n",
    "    return {id: nombre for id, nombre in zip(df_item.iloc[productos_similares]['id'], df_item.iloc[productos_similares]['app_name'])}\n"
   ]
  },
  {
   "cell_type": "code",
   "execution_count": 827,
   "metadata": {},
   "outputs": [
    {
     "data": {
      "text/plain": [
       "{465920: \"Echoes of the Past: The Revenge of the Witch Collector's Edition\",\n",
       " 294570: 'Freddi Fish 5: The Case of the Creature of Coral Cove',\n",
       " 328550: \"Thieves' Gambit: The Curse of the Black Cat\",\n",
       " 465650: 'Out of the Park Baseball 18',\n",
       " 294550: 'Freddi Fish 4: The Case of the Hogfish Rustlers of Briny Gulch'}"
      ]
     },
     "execution_count": 827,
     "metadata": {},
     "output_type": "execute_result"
    }
   ],
   "source": [
    "sistema_recomendacion_user_item(\"76561198003483372\")"
   ]
  }
 ],
 "metadata": {
  "kernelspec": {
   "display_name": "Python 3",
   "language": "python",
   "name": "python3"
  },
  "language_info": {
   "codemirror_mode": {
    "name": "ipython",
    "version": 3
   },
   "file_extension": ".py",
   "mimetype": "text/x-python",
   "name": "python",
   "nbconvert_exporter": "python",
   "pygments_lexer": "ipython3",
   "version": "3.9.13"
  }
 },
 "nbformat": 4,
 "nbformat_minor": 2
}
