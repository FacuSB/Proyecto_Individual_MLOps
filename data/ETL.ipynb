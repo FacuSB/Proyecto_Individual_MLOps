{
 "cells": [
  {
   "cell_type": "markdown",
   "metadata": {},
   "source": [
    "# Proceso de ETL con los datos disponibles"
   ]
  },
  {
   "cell_type": "markdown",
   "metadata": {},
   "source": [
    "### Extracción (Extract)"
   ]
  },
  {
   "cell_type": "code",
   "execution_count": null,
   "metadata": {},
   "outputs": [],
   "source": [
    "import pandas as pd\n",
    "\n",
    "# Cargar los archivos CSV en DataFrames\n",
    "df_australian_user_reviews = pd.read_csv('Datos-Csv/australian_users_reviews.csv')\n",
    "df_australian_users_items = pd.read_csv('Datos-Csv/australian_users_items.csv')\n",
    "df_output_steam_games = pd.read_csv('Datos-Csv/output_steam_games.csv')\n"
   ]
  },
  {
   "cell_type": "markdown",
   "metadata": {},
   "source": [
    "##### Validacion "
   ]
  },
  {
   "cell_type": "code",
   "execution_count": null,
   "metadata": {},
   "outputs": [],
   "source": [
    "df_australian_user_reviews.head()"
   ]
  },
  {
   "cell_type": "code",
   "execution_count": null,
   "metadata": {},
   "outputs": [],
   "source": [
    "df_australian_users_items.head()"
   ]
  },
  {
   "cell_type": "code",
   "execution_count": null,
   "metadata": {},
   "outputs": [],
   "source": [
    "df_output_steam_games.head()"
   ]
  },
  {
   "cell_type": "markdown",
   "metadata": {},
   "source": [
    "### Transformación (Transform)"
   ]
  },
  {
   "cell_type": "markdown",
   "metadata": {},
   "source": [
    "##### Funciones de normalizacion"
   ]
  },
  {
   "cell_type": "code",
   "execution_count": null,
   "metadata": {},
   "outputs": [],
   "source": [
    "import pandas as pd\n",
    "\n",
    "#normalizacion en general\n",
    "def normalize_dataframe(df, null_tolerance, column_name=None, min_chars=None):\n",
    "    # Eliminar duplicados\n",
    "    df.drop_duplicates(inplace=True)\n",
    "\n",
    "    # Eliminar filas con más de 'null_tolerance' valores nulos\n",
    "    df.dropna(thresh=null_tolerance, inplace=True)\n",
    "\n",
    "    # Eliminar filas que contienen listas vacías\n",
    "    for col in df.columns:\n",
    "        df = df[df[col].apply(lambda x: x != [] if isinstance(x, list) else True)]\n",
    "\n",
    "    # Si se proporciona un nombre de columna y un mínimo de caracteres,\n",
    "    # eliminar las filas donde el contenido de esa columna tiene menos caracteres que 'min_chars'\n",
    "    if column_name and min_chars:\n",
    "        df = df[df[column_name].str.len() >= min_chars]\n",
    "\n",
    "    # Si se proporciona un nombre de columna,\n",
    "    # eliminar las filas donde el contenido de esa columna es una lista vacía\n",
    "    if column_name:\n",
    "        df = df[df[column_name].apply(lambda x: x != [] if isinstance(x, list) else True)]\n",
    "\n",
    "    return df\n"
   ]
  },
  {
   "cell_type": "code",
   "execution_count": null,
   "metadata": {},
   "outputs": [],
   "source": [
    "import pandas as pd\n",
    "\n",
    "#normalizacion de fechas\n",
    "def normalize_date_column(df, date_column):\n",
    "    # Intentamos convertir la columna de fechas al formato deseado\n",
    "    try:\n",
    "        df[date_column] = pd.to_datetime(df[date_column], format='%Y-%m-%d')\n",
    "    except ValueError:\n",
    "        # Si la conversión falla, eliminamos las filas con fechas en un formato incorrecto\n",
    "        df = df[pd.to_datetime(df[date_column], errors='coerce').notna()]\n",
    "    return df\n"
   ]
  },
  {
   "cell_type": "markdown",
   "metadata": {},
   "source": [
    "##### output_steam_games_normalizado"
   ]
  },
  {
   "cell_type": "code",
   "execution_count": null,
   "metadata": {},
   "outputs": [],
   "source": [
    "df_output_steam_games_normalizado=normalize_dataframe(df_output_steam_games,5)\n",
    "df_output_steam_games_normalizado=normalize_date_column(df_output_steam_games,'release_date')"
   ]
  },
  {
   "cell_type": "code",
   "execution_count": null,
   "metadata": {},
   "outputs": [],
   "source": [
    "df_output_steam_games_normalizado.to_csv(\"Datos-Normalizados/output_steam_games_normalizado.csv\")"
   ]
  },
  {
   "cell_type": "markdown",
   "metadata": {},
   "source": [
    "##### australian_user_items_normalizado"
   ]
  },
  {
   "cell_type": "code",
   "execution_count": null,
   "metadata": {},
   "outputs": [],
   "source": [
    "df_australian_users_items_normalizado=normalize_dataframe(df_australian_users_items,0,'items',4)"
   ]
  },
  {
   "cell_type": "code",
   "execution_count": null,
   "metadata": {},
   "outputs": [],
   "source": [
    "df_australian_users_items_normalizado"
   ]
  },
  {
   "cell_type": "code",
   "execution_count": null,
   "metadata": {},
   "outputs": [],
   "source": [
    "df_australian_users_items_normalizado.to_csv('Datos-Normalizados/australian_users_items_normalizado.csv')"
   ]
  },
  {
   "cell_type": "markdown",
   "metadata": {},
   "source": [
    "##### australian_user_reviews_normalizado"
   ]
  },
  {
   "cell_type": "markdown",
   "metadata": {},
   "source": [
    "Análisis de las emociones de las reseñas"
   ]
  },
  {
   "cell_type": "code",
   "execution_count": null,
   "metadata": {},
   "outputs": [],
   "source": [
    "import pandas as pd\n",
    "from textblob import TextBlob\n",
    "\n",
    "# Asegurarse de que 'reviews' sea una lista de diccionarios\n",
    "df_australian_user_reviews['reviews'] = df_australian_user_reviews['reviews'].apply(lambda x: eval(x) if pd.notna(x) else [])\n",
    "\n",
    "# Extraer el contenido de la columna 'review'\n",
    "df_australian_user_reviews['review_content'] = df_australian_user_reviews['reviews'].apply(lambda reviews: [review['review'] for review in reviews])\n",
    "\n",
    "# Función para realizar el análisis de sentimiento y devolver el puntaje\n",
    "def get_sentiment_score(review):\n",
    "    analysis = TextBlob(str(review))\n",
    "    if analysis.sentiment.polarity > 0:\n",
    "        return 2  # Positivo\n",
    "    elif analysis.sentiment.polarity == 0:\n",
    "        return 1  # Neutral\n",
    "    else:\n",
    "        return 0  # Negativo\n",
    "\n",
    "# Aplicar el análisis de sentimiento y reemplazar el texto en 'review' con el puntaje\n",
    "df_australian_user_reviews['reviews'] = df_australian_user_reviews['reviews'].apply(lambda reviews: [{'sentiment_analysis': get_sentiment_score(review['review']), **review} for review in reviews])\n",
    "\n",
    "# Imprimir las primeras filas del DataFrame resultante\n",
    "print(df_australian_user_reviews[['reviews']])\n"
   ]
  },
  {
   "cell_type": "code",
   "execution_count": 29,
   "metadata": {},
   "outputs": [
    {
     "data": {
      "text/plain": [
       "0        [{'sentiment_analysis': 2, 'funny': '', 'poste...\n",
       "1        [{'sentiment_analysis': 2, 'funny': '', 'poste...\n",
       "2        [{'sentiment_analysis': 2, 'funny': '', 'poste...\n",
       "3        [{'sentiment_analysis': 2, 'funny': '', 'poste...\n",
       "4        [{'sentiment_analysis': 1, 'funny': '3 people ...\n",
       "                               ...                        \n",
       "25794    [{'sentiment_analysis': 2, 'funny': '', 'poste...\n",
       "25795    [{'sentiment_analysis': 1, 'funny': '', 'poste...\n",
       "25796    [{'sentiment_analysis': 1, 'funny': '1 person ...\n",
       "25797    [{'sentiment_analysis': 2, 'funny': '', 'poste...\n",
       "25798    [{'sentiment_analysis': 2, 'funny': '1 person ...\n",
       "Name: reviews, Length: 25799, dtype: object"
      ]
     },
     "execution_count": 29,
     "metadata": {},
     "output_type": "execute_result"
    }
   ],
   "source": [
    "df_australian_user_reviews[['reviews']]"
   ]
  },
  {
   "cell_type": "code",
   "execution_count": 27,
   "metadata": {},
   "outputs": [],
   "source": [
    "df_australian_user_reviews.to_csv('Datos-Normalizados/australian_user_reviews_normalizado.csv')"
   ]
  },
  {
   "cell_type": "markdown",
   "metadata": {},
   "source": [
    "### Carga (Load)"
   ]
  }
 ],
 "metadata": {
  "kernelspec": {
   "display_name": "Python 3",
   "language": "python",
   "name": "python3"
  },
  "language_info": {
   "codemirror_mode": {
    "name": "ipython",
    "version": 3
   },
   "file_extension": ".py",
   "mimetype": "text/x-python",
   "name": "python",
   "nbconvert_exporter": "python",
   "pygments_lexer": "ipython3",
   "version": "3.9.13"
  }
 },
 "nbformat": 4,
 "nbformat_minor": 2
}
