{
 "cells": [
  {
   "cell_type": "markdown",
   "metadata": {},
   "source": [
    "# Proceso de ETL con los datos disponibles"
   ]
  },
  {
   "cell_type": "markdown",
   "metadata": {},
   "source": [
    "### Extracción (Extract)"
   ]
  },
  {
   "cell_type": "code",
   "execution_count": 2,
   "metadata": {},
   "outputs": [
    {
     "name": "stderr",
     "output_type": "stream",
     "text": [
      "C:\\Users\\Facundete\\AppData\\Local\\Temp\\ipykernel_3032\\640466342.py:6: DtypeWarning: Columns (0,1,2,3,4,5,6,7,8,9,10,12) have mixed types. Specify dtype option on import or set low_memory=False.\n",
      "  df_output_steam_games = pd.read_csv('Datos-Csv/output_steam_games.csv')\n"
     ]
    }
   ],
   "source": [
    "import pandas as pd\n",
    "\n",
    "# Cargar los archivos CSV en DataFrames\n",
    "df_australian_user_reviews = pd.read_csv('Datos-Csv/australian_users_reviews.csv')\n",
    "df_australian_users_items = pd.read_csv('Datos-Csv/australian_users_items.csv')\n",
    "df_output_steam_games = pd.read_csv('Datos-Csv/output_steam_games.csv')\n"
   ]
  },
  {
   "cell_type": "markdown",
   "metadata": {},
   "source": [
    "##### Validacion "
   ]
  },
  {
   "cell_type": "code",
   "execution_count": null,
   "metadata": {},
   "outputs": [],
   "source": [
    "df_australian_user_reviews.head()"
   ]
  },
  {
   "cell_type": "code",
   "execution_count": 3,
   "metadata": {},
   "outputs": [
    {
     "data": {
      "text/html": [
       "<div>\n",
       "<style scoped>\n",
       "    .dataframe tbody tr th:only-of-type {\n",
       "        vertical-align: middle;\n",
       "    }\n",
       "\n",
       "    .dataframe tbody tr th {\n",
       "        vertical-align: top;\n",
       "    }\n",
       "\n",
       "    .dataframe thead th {\n",
       "        text-align: right;\n",
       "    }\n",
       "</style>\n",
       "<table border=\"1\" class=\"dataframe\">\n",
       "  <thead>\n",
       "    <tr style=\"text-align: right;\">\n",
       "      <th></th>\n",
       "      <th>user_id</th>\n",
       "      <th>items_count</th>\n",
       "      <th>steam_id</th>\n",
       "      <th>user_url</th>\n",
       "      <th>items</th>\n",
       "    </tr>\n",
       "  </thead>\n",
       "  <tbody>\n",
       "    <tr>\n",
       "      <th>0</th>\n",
       "      <td>76561197970982479</td>\n",
       "      <td>277</td>\n",
       "      <td>76561197970982479</td>\n",
       "      <td>http://steamcommunity.com/profiles/76561197970...</td>\n",
       "      <td>[{'item_id': '10', 'item_name': 'Counter-Strik...</td>\n",
       "    </tr>\n",
       "    <tr>\n",
       "      <th>1</th>\n",
       "      <td>js41637</td>\n",
       "      <td>888</td>\n",
       "      <td>76561198035864385</td>\n",
       "      <td>http://steamcommunity.com/id/js41637</td>\n",
       "      <td>[{'item_id': '10', 'item_name': 'Counter-Strik...</td>\n",
       "    </tr>\n",
       "    <tr>\n",
       "      <th>2</th>\n",
       "      <td>evcentric</td>\n",
       "      <td>137</td>\n",
       "      <td>76561198007712555</td>\n",
       "      <td>http://steamcommunity.com/id/evcentric</td>\n",
       "      <td>[{'item_id': '1200', 'item_name': 'Red Orchest...</td>\n",
       "    </tr>\n",
       "    <tr>\n",
       "      <th>3</th>\n",
       "      <td>Riot-Punch</td>\n",
       "      <td>328</td>\n",
       "      <td>76561197963445855</td>\n",
       "      <td>http://steamcommunity.com/id/Riot-Punch</td>\n",
       "      <td>[{'item_id': '10', 'item_name': 'Counter-Strik...</td>\n",
       "    </tr>\n",
       "    <tr>\n",
       "      <th>4</th>\n",
       "      <td>doctr</td>\n",
       "      <td>541</td>\n",
       "      <td>76561198002099482</td>\n",
       "      <td>http://steamcommunity.com/id/doctr</td>\n",
       "      <td>[{'item_id': '300', 'item_name': 'Day of Defea...</td>\n",
       "    </tr>\n",
       "  </tbody>\n",
       "</table>\n",
       "</div>"
      ],
      "text/plain": [
       "             user_id  items_count           steam_id  \\\n",
       "0  76561197970982479          277  76561197970982479   \n",
       "1            js41637          888  76561198035864385   \n",
       "2          evcentric          137  76561198007712555   \n",
       "3         Riot-Punch          328  76561197963445855   \n",
       "4              doctr          541  76561198002099482   \n",
       "\n",
       "                                            user_url  \\\n",
       "0  http://steamcommunity.com/profiles/76561197970...   \n",
       "1               http://steamcommunity.com/id/js41637   \n",
       "2             http://steamcommunity.com/id/evcentric   \n",
       "3            http://steamcommunity.com/id/Riot-Punch   \n",
       "4                 http://steamcommunity.com/id/doctr   \n",
       "\n",
       "                                               items  \n",
       "0  [{'item_id': '10', 'item_name': 'Counter-Strik...  \n",
       "1  [{'item_id': '10', 'item_name': 'Counter-Strik...  \n",
       "2  [{'item_id': '1200', 'item_name': 'Red Orchest...  \n",
       "3  [{'item_id': '10', 'item_name': 'Counter-Strik...  \n",
       "4  [{'item_id': '300', 'item_name': 'Day of Defea...  "
      ]
     },
     "execution_count": 3,
     "metadata": {},
     "output_type": "execute_result"
    }
   ],
   "source": [
    "df_australian_users_items.head()"
   ]
  },
  {
   "cell_type": "code",
   "execution_count": null,
   "metadata": {},
   "outputs": [],
   "source": [
    "df_output_steam_games.head()"
   ]
  },
  {
   "cell_type": "markdown",
   "metadata": {},
   "source": [
    "### Transformación (Transform)"
   ]
  },
  {
   "cell_type": "markdown",
   "metadata": {},
   "source": [
    "##### Funciones de normalizacion"
   ]
  },
  {
   "cell_type": "code",
   "execution_count": 4,
   "metadata": {},
   "outputs": [],
   "source": [
    "import pandas as pd\n",
    "\n",
    "#normalizacion en general\n",
    "def normalize_dataframe(df, null_tolerance, column_name=None, min_chars=None):\n",
    "    # Eliminar duplicados\n",
    "    df.drop_duplicates(inplace=True)\n",
    "\n",
    "    # Eliminar filas con más de 'null_tolerance' valores nulos\n",
    "    df.dropna(thresh=null_tolerance, inplace=True)\n",
    "\n",
    "    # Eliminar filas que contienen listas vacías\n",
    "    for col in df.columns:\n",
    "        df = df[df[col].apply(lambda x: x != [] if isinstance(x, list) else True)]\n",
    "\n",
    "    # Si se proporciona un nombre de columna y un mínimo de caracteres,\n",
    "    # eliminar las filas donde el contenido de esa columna tiene menos caracteres que 'min_chars'\n",
    "    if column_name and min_chars:\n",
    "        df = df[df[column_name].str.len() >= min_chars]\n",
    "\n",
    "    # Si se proporciona un nombre de columna,\n",
    "    # eliminar las filas donde el contenido de esa columna es una lista vacía\n",
    "    if column_name:\n",
    "        df = df[df[column_name].apply(lambda x: x != [] if isinstance(x, list) else True)]\n",
    "\n",
    "    return df\n"
   ]
  },
  {
   "cell_type": "code",
   "execution_count": 5,
   "metadata": {},
   "outputs": [],
   "source": [
    "import pandas as pd\n",
    "\n",
    "#normalizacion de fechas\n",
    "def normalize_date_column(df, date_column):\n",
    "    # Intentamos convertir la columna de fechas al formato deseado\n",
    "    try:\n",
    "        df[date_column] = pd.to_datetime(df[date_column], format='%Y-%m-%d')\n",
    "    except ValueError:\n",
    "        # Si la conversión falla, eliminamos las filas con fechas en un formato incorrecto\n",
    "        df = df[pd.to_datetime(df[date_column], errors='coerce').notna()]\n",
    "    return df\n"
   ]
  },
  {
   "cell_type": "markdown",
   "metadata": {},
   "source": [
    "##### output_steam_games_normalizado"
   ]
  },
  {
   "cell_type": "code",
   "execution_count": null,
   "metadata": {},
   "outputs": [],
   "source": [
    "df_output_steam_games_normalizado=normalize_dataframe(df_output_steam_games,5)\n",
    "df_output_steam_games_normalizado=normalize_date_column(df_output_steam_games,'release_date')"
   ]
  },
  {
   "cell_type": "code",
   "execution_count": null,
   "metadata": {},
   "outputs": [],
   "source": [
    "df_output_steam_games_normalizado.to_csv(\"Datos-Normalizados/output_steam_games_normalizado.csv\")"
   ]
  },
  {
   "cell_type": "markdown",
   "metadata": {},
   "source": [
    "##### australian_user_items_normalizado"
   ]
  },
  {
   "cell_type": "code",
   "execution_count": 6,
   "metadata": {},
   "outputs": [],
   "source": [
    "df_australian_users_items_normalizado=normalize_dataframe(df_australian_users_items,0,'items',4)"
   ]
  },
  {
   "cell_type": "code",
   "execution_count": 10,
   "metadata": {},
   "outputs": [
    {
     "data": {
      "text/html": [
       "<div>\n",
       "<style scoped>\n",
       "    .dataframe tbody tr th:only-of-type {\n",
       "        vertical-align: middle;\n",
       "    }\n",
       "\n",
       "    .dataframe tbody tr th {\n",
       "        vertical-align: top;\n",
       "    }\n",
       "\n",
       "    .dataframe thead th {\n",
       "        text-align: right;\n",
       "    }\n",
       "</style>\n",
       "<table border=\"1\" class=\"dataframe\">\n",
       "  <thead>\n",
       "    <tr style=\"text-align: right;\">\n",
       "      <th></th>\n",
       "      <th>user_id</th>\n",
       "      <th>items_count</th>\n",
       "      <th>steam_id</th>\n",
       "      <th>user_url</th>\n",
       "      <th>items</th>\n",
       "    </tr>\n",
       "  </thead>\n",
       "  <tbody>\n",
       "    <tr>\n",
       "      <th>0</th>\n",
       "      <td>76561197970982479</td>\n",
       "      <td>277</td>\n",
       "      <td>76561197970982479</td>\n",
       "      <td>http://steamcommunity.com/profiles/76561197970...</td>\n",
       "      <td>[{'item_id': '10', 'item_name': 'Counter-Strik...</td>\n",
       "    </tr>\n",
       "    <tr>\n",
       "      <th>1</th>\n",
       "      <td>js41637</td>\n",
       "      <td>888</td>\n",
       "      <td>76561198035864385</td>\n",
       "      <td>http://steamcommunity.com/id/js41637</td>\n",
       "      <td>[{'item_id': '10', 'item_name': 'Counter-Strik...</td>\n",
       "    </tr>\n",
       "    <tr>\n",
       "      <th>2</th>\n",
       "      <td>evcentric</td>\n",
       "      <td>137</td>\n",
       "      <td>76561198007712555</td>\n",
       "      <td>http://steamcommunity.com/id/evcentric</td>\n",
       "      <td>[{'item_id': '1200', 'item_name': 'Red Orchest...</td>\n",
       "    </tr>\n",
       "    <tr>\n",
       "      <th>3</th>\n",
       "      <td>Riot-Punch</td>\n",
       "      <td>328</td>\n",
       "      <td>76561197963445855</td>\n",
       "      <td>http://steamcommunity.com/id/Riot-Punch</td>\n",
       "      <td>[{'item_id': '10', 'item_name': 'Counter-Strik...</td>\n",
       "    </tr>\n",
       "    <tr>\n",
       "      <th>4</th>\n",
       "      <td>doctr</td>\n",
       "      <td>541</td>\n",
       "      <td>76561198002099482</td>\n",
       "      <td>http://steamcommunity.com/id/doctr</td>\n",
       "      <td>[{'item_id': '300', 'item_name': 'Day of Defea...</td>\n",
       "    </tr>\n",
       "    <tr>\n",
       "      <th>...</th>\n",
       "      <td>...</td>\n",
       "      <td>...</td>\n",
       "      <td>...</td>\n",
       "      <td>...</td>\n",
       "      <td>...</td>\n",
       "    </tr>\n",
       "    <tr>\n",
       "      <th>88303</th>\n",
       "      <td>76561198320136420</td>\n",
       "      <td>321</td>\n",
       "      <td>76561198320136420</td>\n",
       "      <td>http://steamcommunity.com/profiles/76561198320...</td>\n",
       "      <td>[{'item_id': '11020', 'item_name': 'TrackMania...</td>\n",
       "    </tr>\n",
       "    <tr>\n",
       "      <th>88304</th>\n",
       "      <td>ArkPlays7</td>\n",
       "      <td>4</td>\n",
       "      <td>76561198321542621</td>\n",
       "      <td>http://steamcommunity.com/id/ArkPlays7</td>\n",
       "      <td>[{'item_id': '218230', 'item_name': 'PlanetSid...</td>\n",
       "    </tr>\n",
       "    <tr>\n",
       "      <th>88305</th>\n",
       "      <td>76561198323066619</td>\n",
       "      <td>22</td>\n",
       "      <td>76561198323066619</td>\n",
       "      <td>http://steamcommunity.com/profiles/76561198323...</td>\n",
       "      <td>[{'item_id': '413850', 'item_name': 'CS:GO Pla...</td>\n",
       "    </tr>\n",
       "    <tr>\n",
       "      <th>88306</th>\n",
       "      <td>76561198326700687</td>\n",
       "      <td>177</td>\n",
       "      <td>76561198326700687</td>\n",
       "      <td>http://steamcommunity.com/profiles/76561198326...</td>\n",
       "      <td>[{'item_id': '11020', 'item_name': 'TrackMania...</td>\n",
       "    </tr>\n",
       "    <tr>\n",
       "      <th>88308</th>\n",
       "      <td>76561198329548331</td>\n",
       "      <td>7</td>\n",
       "      <td>76561198329548331</td>\n",
       "      <td>http://steamcommunity.com/profiles/76561198329...</td>\n",
       "      <td>[{'item_id': '304930', 'item_name': 'Unturned'...</td>\n",
       "    </tr>\n",
       "  </tbody>\n",
       "</table>\n",
       "<p>70939 rows × 5 columns</p>\n",
       "</div>"
      ],
      "text/plain": [
       "                 user_id  items_count           steam_id  \\\n",
       "0      76561197970982479          277  76561197970982479   \n",
       "1                js41637          888  76561198035864385   \n",
       "2              evcentric          137  76561198007712555   \n",
       "3             Riot-Punch          328  76561197963445855   \n",
       "4                  doctr          541  76561198002099482   \n",
       "...                  ...          ...                ...   \n",
       "88303  76561198320136420          321  76561198320136420   \n",
       "88304          ArkPlays7            4  76561198321542621   \n",
       "88305  76561198323066619           22  76561198323066619   \n",
       "88306  76561198326700687          177  76561198326700687   \n",
       "88308  76561198329548331            7  76561198329548331   \n",
       "\n",
       "                                                user_url  \\\n",
       "0      http://steamcommunity.com/profiles/76561197970...   \n",
       "1                   http://steamcommunity.com/id/js41637   \n",
       "2                 http://steamcommunity.com/id/evcentric   \n",
       "3                http://steamcommunity.com/id/Riot-Punch   \n",
       "4                     http://steamcommunity.com/id/doctr   \n",
       "...                                                  ...   \n",
       "88303  http://steamcommunity.com/profiles/76561198320...   \n",
       "88304             http://steamcommunity.com/id/ArkPlays7   \n",
       "88305  http://steamcommunity.com/profiles/76561198323...   \n",
       "88306  http://steamcommunity.com/profiles/76561198326...   \n",
       "88308  http://steamcommunity.com/profiles/76561198329...   \n",
       "\n",
       "                                                   items  \n",
       "0      [{'item_id': '10', 'item_name': 'Counter-Strik...  \n",
       "1      [{'item_id': '10', 'item_name': 'Counter-Strik...  \n",
       "2      [{'item_id': '1200', 'item_name': 'Red Orchest...  \n",
       "3      [{'item_id': '10', 'item_name': 'Counter-Strik...  \n",
       "4      [{'item_id': '300', 'item_name': 'Day of Defea...  \n",
       "...                                                  ...  \n",
       "88303  [{'item_id': '11020', 'item_name': 'TrackMania...  \n",
       "88304  [{'item_id': '218230', 'item_name': 'PlanetSid...  \n",
       "88305  [{'item_id': '413850', 'item_name': 'CS:GO Pla...  \n",
       "88306  [{'item_id': '11020', 'item_name': 'TrackMania...  \n",
       "88308  [{'item_id': '304930', 'item_name': 'Unturned'...  \n",
       "\n",
       "[70939 rows x 5 columns]"
      ]
     },
     "execution_count": 10,
     "metadata": {},
     "output_type": "execute_result"
    }
   ],
   "source": [
    "df_australian_users_items_normalizado"
   ]
  },
  {
   "cell_type": "code",
   "execution_count": 8,
   "metadata": {},
   "outputs": [],
   "source": [
    "df_australian_users_items_normalizado.to_csv('Datos-Normalizados/australian_users_items_normalizado.csv')"
   ]
  },
  {
   "cell_type": "markdown",
   "metadata": {},
   "source": [
    "##### australian_user_reviews_normalizado"
   ]
  },
  {
   "cell_type": "markdown",
   "metadata": {},
   "source": [
    "Análisis de las emociones de las reseñas"
   ]
  },
  {
   "cell_type": "code",
   "execution_count": null,
   "metadata": {},
   "outputs": [],
   "source": [
    "import pandas as pd\n",
    "from textblob import TextBlob\n",
    "\n",
    "# Asegurarse de que 'reviews' sea una lista de diccionarios\n",
    "df_australian_user_reviews['reviews'] = df_australian_user_reviews['reviews'].apply(lambda x: eval(x) if pd.notna(x) else [])\n",
    "\n",
    "# Extraer el contenido de la columna 'review'\n",
    "df_australian_user_reviews['review_content'] = df_australian_user_reviews['reviews'].apply(lambda reviews: [review['review'] for review in reviews])\n",
    "\n",
    "# Función para realizar el análisis de sentimiento y devolver el puntaje\n",
    "def get_sentiment_score(review):\n",
    "    analysis = TextBlob(str(review))\n",
    "    if analysis.sentiment.polarity > 0:\n",
    "        return 2  # Positivo\n",
    "    elif analysis.sentiment.polarity == 0:\n",
    "        return 1  # Neutral\n",
    "    else:\n",
    "        return 0  # Negativo\n",
    "\n",
    "# Aplicar el análisis de sentimiento y reemplazar el texto en 'review' con el puntaje\n",
    "df_australian_user_reviews['reviews'] = df_australian_user_reviews['reviews'].apply(lambda reviews: [{'sentiment_analysis': get_sentiment_score(review['review']), **review} for review in reviews])\n",
    "\n",
    "# Imprimir las primeras filas del DataFrame resultante\n",
    "print(df_australian_user_reviews[['reviews']])\n"
   ]
  },
  {
   "cell_type": "code",
   "execution_count": 29,
   "metadata": {},
   "outputs": [
    {
     "data": {
      "text/plain": [
       "0        [{'sentiment_analysis': 2, 'funny': '', 'poste...\n",
       "1        [{'sentiment_analysis': 2, 'funny': '', 'poste...\n",
       "2        [{'sentiment_analysis': 2, 'funny': '', 'poste...\n",
       "3        [{'sentiment_analysis': 2, 'funny': '', 'poste...\n",
       "4        [{'sentiment_analysis': 1, 'funny': '3 people ...\n",
       "                               ...                        \n",
       "25794    [{'sentiment_analysis': 2, 'funny': '', 'poste...\n",
       "25795    [{'sentiment_analysis': 1, 'funny': '', 'poste...\n",
       "25796    [{'sentiment_analysis': 1, 'funny': '1 person ...\n",
       "25797    [{'sentiment_analysis': 2, 'funny': '', 'poste...\n",
       "25798    [{'sentiment_analysis': 2, 'funny': '1 person ...\n",
       "Name: reviews, Length: 25799, dtype: object"
      ]
     },
     "execution_count": 29,
     "metadata": {},
     "output_type": "execute_result"
    }
   ],
   "source": [
    "df_australian_user_reviews[['reviews']]"
   ]
  },
  {
   "cell_type": "code",
   "execution_count": 27,
   "metadata": {},
   "outputs": [],
   "source": [
    "df_australian_user_reviews.to_csv('Datos-Normalizados/australian_user_reviews_normalizado.csv')"
   ]
  },
  {
   "cell_type": "markdown",
   "metadata": {},
   "source": [
    "### Carga (Load)"
   ]
  }
 ],
 "metadata": {
  "kernelspec": {
   "display_name": "Python 3",
   "language": "python",
   "name": "python3"
  },
  "language_info": {
   "codemirror_mode": {
    "name": "ipython",
    "version": 3
   },
   "file_extension": ".py",
   "mimetype": "text/x-python",
   "name": "python",
   "nbconvert_exporter": "python",
   "pygments_lexer": "ipython3",
   "version": "3.9.13"
  }
 },
 "nbformat": 4,
 "nbformat_minor": 2
}
