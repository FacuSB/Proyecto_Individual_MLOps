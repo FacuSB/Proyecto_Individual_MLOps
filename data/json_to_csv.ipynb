{
 "cells": [
  {
   "cell_type": "markdown",
   "metadata": {},
   "source": [
    "# Converti los json a csv para analizar con mas facilidad los datos"
   ]
  },
  {
   "cell_type": "markdown",
   "metadata": {},
   "source": [
    "### Output Steam"
   ]
  },
  {
   "cell_type": "code",
   "execution_count": 6,
   "metadata": {},
   "outputs": [],
   "source": [
    "import json\n",
    "import csv\n",
    "\n",
    "def json_to_csv(json_file, csv_file):\n",
    "    # Abre el archivo JSON\n",
    "    with open(json_file, 'rt', encoding='utf-8') as file:\n",
    "        # Lee todas las líneas del archivo\n",
    "        json_lines = file.readlines()\n",
    "\n",
    "    # Convierte cada línea a un objeto Python y concaténalos en una lista\n",
    "    data = [json.loads(line) for line in json_lines]\n",
    "\n",
    "    # Abre el archivo CSV para escribir\n",
    "    with open(csv_file, 'w', newline='', encoding='utf-8') as csv_file:\n",
    "        # Crea un objeto escritor CSV\n",
    "        csv_writer = csv.writer(csv_file)\n",
    "\n",
    "        # Escribe el encabezado del CSV (asumiendo que los keys del primer objeto son los encabezados)\n",
    "        csv_writer.writerow(data[0].keys())\n",
    "\n",
    "        # Escribe cada fila en el CSV\n",
    "        for row in data:\n",
    "            csv_writer.writerow(row.values())\n",
    "\n"
   ]
  },
  {
   "cell_type": "code",
   "execution_count": 10,
   "metadata": {},
   "outputs": [],
   "source": [
    "json_file = 'Datos-Json/output_steam_games.json'\n",
    "csv_file = 'Datos-Csv/output_steam_games.csv'\n",
    "json_to_csv(json_file, csv_file)"
   ]
  },
  {
   "cell_type": "markdown",
   "metadata": {},
   "source": [
    "### Funcion para convertir json a csv"
   ]
  },
  {
   "cell_type": "code",
   "execution_count": 12,
   "metadata": {},
   "outputs": [],
   "source": [
    "import ast\n",
    "import pandas as pd\n",
    "\n",
    "def json_to_csv2(json_file, csv_file):\n",
    "    # Inicializamos una lista vacía para almacenar los datos\n",
    "    data = []\n",
    "\n",
    "    # Abrimos el archivo JSON en modo lectura\n",
    "    with open(json_file, 'r', encoding='utf-8') as f:\n",
    "        # Iteramos sobre cada línea en el archivo\n",
    "        for line in f:\n",
    "            try:\n",
    "                # Intentamos convertir la línea de texto a un objeto Python usando ast.literal_eval\n",
    "                # y lo añadimos a la lista data\n",
    "                data.append(ast.literal_eval(line))\n",
    "            except:\n",
    "                continue\n",
    "\n",
    "    # Convertimos la lista de datos a un DataFrame de pandas\n",
    "    df = pd.DataFrame(data)\n",
    "\n",
    "    # Guardamos el DataFrame en un archivo CSV\n",
    "    df.to_csv(csv_file, index=False)\n",
    "\n"
   ]
  },
  {
   "cell_type": "markdown",
   "metadata": {},
   "source": [
    "### User Items"
   ]
  },
  {
   "cell_type": "code",
   "execution_count": 13,
   "metadata": {},
   "outputs": [],
   "source": [
    "\n",
    "json_to_csv2('Datos-Json/australian_users_items.json', 'Datos-Csv/australian_users_items.csv')"
   ]
  },
  {
   "cell_type": "markdown",
   "metadata": {},
   "source": [
    "### User Reviews"
   ]
  },
  {
   "cell_type": "code",
   "execution_count": 14,
   "metadata": {},
   "outputs": [],
   "source": [
    "\n",
    "json_to_csv2('Datos-Json/australian_user_reviews.json', 'Datos-Csv/australian_users_reviews.csv')"
   ]
  }
 ],
 "metadata": {
  "kernelspec": {
   "display_name": "Python 3",
   "language": "python",
   "name": "python3"
  },
  "language_info": {
   "codemirror_mode": {
    "name": "ipython",
    "version": 3
   },
   "file_extension": ".py",
   "mimetype": "text/x-python",
   "name": "python",
   "nbconvert_exporter": "python",
   "pygments_lexer": "ipython3",
   "version": "3.9.13"
  }
 },
 "nbformat": 4,
 "nbformat_minor": 2
}
